{
  "nbformat": 4,
  "nbformat_minor": 0,
  "metadata": {
    "colab": {
      "provenance": [],
      "authorship_tag": "ABX9TyPtkY6irJslyjK1oi/lwj4l",
      "include_colab_link": true
    },
    "kernelspec": {
      "name": "python3",
      "display_name": "Python 3"
    },
    "language_info": {
      "name": "python"
    }
  },
  "cells": [
    {
      "cell_type": "markdown",
      "metadata": {
        "id": "view-in-github",
        "colab_type": "text"
      },
      "source": [
        "<a href=\"https://colab.research.google.com/github/nisaac21/TensorFlow/blob/main/Basic_Classification_Model.ipynb\" target=\"_parent\"><img src=\"https://colab.research.google.com/assets/colab-badge.svg\" alt=\"Open In Colab\"/></a>"
      ]
    },
    {
      "cell_type": "markdown",
      "source": [
        "##Classification\n",
        "\n",
        "The point of this model is to separate the data points into classes. \n",
        "\n",
        "We are trying to predict what class flowers are in. "
      ],
      "metadata": {
        "id": "0Me2GbfQxA1e"
      }
    },
    {
      "cell_type": "code",
      "source": [
        "## Imports \n",
        "from __future__ import absolute_import, division, print_function, unicode_literals\n",
        "\n",
        "import tensorflow as tf\n",
        "import pandas as pd"
      ],
      "metadata": {
        "id": "c1PJyG-sLV6M"
      },
      "execution_count": null,
      "outputs": []
    },
    {
      "cell_type": "markdown",
      "source": [
        "##Dataset\n",
        "\n",
        "Inputs:\n",
        "* septal length\n",
        "* speal width\n",
        "* petal length\n",
        "* petal width\n",
        "\n",
        "Outputs:\n",
        "* Setosa\n",
        "* Versicolor\n",
        "* Virginica"
      ],
      "metadata": {
        "id": "ynnzpbw1Lxqb"
      }
    },
    {
      "cell_type": "code",
      "source": [
        "CSV_COLUMN_NAMES = ['SepalLength', 'SepalWidth', 'PetalLength', 'PetalWidth', 'Species']\n",
        "SPECIES = ['Setosa', 'Versicolor', 'Virginica']"
      ],
      "metadata": {
        "id": "JE74K-pJL0cj"
      },
      "execution_count": null,
      "outputs": []
    },
    {
      "cell_type": "code",
      "source": [
        "# Here we load the data different\n",
        "# we are using keras which has useful datasets and tools \n",
        "train_path = tf.keras.utils.get_file(\n",
        "    \"iris_training.csv\", \"https://storage.googleapis.com/download.tensorflow.org/data/iris_training.csv\")\n",
        "test_path = tf.keras.utils.get_file(\n",
        "    \"iris_test.csv\", \"https://storage.googleapis.com/download.tensorflow.org/data/iris_test.csv\")\n",
        "\n",
        "train = pd.read_csv(train_path, names=CSV_COLUMN_NAMES, header=0)\n",
        "test = pd.read_csv(test_path, names=CSV_COLUMN_NAMES, header=0)"
      ],
      "metadata": {
        "id": "GLNs_itgMGFU",
        "colab": {
          "base_uri": "https://localhost:8080/"
        },
        "outputId": "7ebdbc46-e3c9-498c-a121-a4ceecc53d8b"
      },
      "execution_count": null,
      "outputs": [
        {
          "output_type": "stream",
          "name": "stdout",
          "text": [
            "Downloading data from https://storage.googleapis.com/download.tensorflow.org/data/iris_training.csv\n",
            "16384/2194 [================================================================================================================================================================================================================================] - 0s 0us/step\n",
            "Downloading data from https://storage.googleapis.com/download.tensorflow.org/data/iris_test.csv\n",
            "16384/573 [=========================================================================================================================================================================================================================================================================================================================================================================================================================================================================================================================================================================================================================================================================================================================================================================================================================================================================================] - 0s 0us/step\n"
          ]
        }
      ]
    },
    {
      "cell_type": "code",
      "source": [
        "# Looking at our data \n",
        "train.head()"
      ],
      "metadata": {
        "colab": {
          "base_uri": "https://localhost:8080/",
          "height": 206
        },
        "id": "0IoGwqKrMZC2",
        "outputId": "b8baaa32-ff76-4a94-9132-164460303f54"
      },
      "execution_count": null,
      "outputs": [
        {
          "output_type": "execute_result",
          "data": {
            "text/html": [
              "\n",
              "  <div id=\"df-e17238bd-b90f-49b2-820b-7cd9431464f2\">\n",
              "    <div class=\"colab-df-container\">\n",
              "      <div>\n",
              "<style scoped>\n",
              "    .dataframe tbody tr th:only-of-type {\n",
              "        vertical-align: middle;\n",
              "    }\n",
              "\n",
              "    .dataframe tbody tr th {\n",
              "        vertical-align: top;\n",
              "    }\n",
              "\n",
              "    .dataframe thead th {\n",
              "        text-align: right;\n",
              "    }\n",
              "</style>\n",
              "<table border=\"1\" class=\"dataframe\">\n",
              "  <thead>\n",
              "    <tr style=\"text-align: right;\">\n",
              "      <th></th>\n",
              "      <th>SepalLength</th>\n",
              "      <th>SepalWidth</th>\n",
              "      <th>PetalLength</th>\n",
              "      <th>PetalWidth</th>\n",
              "      <th>Species</th>\n",
              "    </tr>\n",
              "  </thead>\n",
              "  <tbody>\n",
              "    <tr>\n",
              "      <th>0</th>\n",
              "      <td>6.4</td>\n",
              "      <td>2.8</td>\n",
              "      <td>5.6</td>\n",
              "      <td>2.2</td>\n",
              "      <td>2</td>\n",
              "    </tr>\n",
              "    <tr>\n",
              "      <th>1</th>\n",
              "      <td>5.0</td>\n",
              "      <td>2.3</td>\n",
              "      <td>3.3</td>\n",
              "      <td>1.0</td>\n",
              "      <td>1</td>\n",
              "    </tr>\n",
              "    <tr>\n",
              "      <th>2</th>\n",
              "      <td>4.9</td>\n",
              "      <td>2.5</td>\n",
              "      <td>4.5</td>\n",
              "      <td>1.7</td>\n",
              "      <td>2</td>\n",
              "    </tr>\n",
              "    <tr>\n",
              "      <th>3</th>\n",
              "      <td>4.9</td>\n",
              "      <td>3.1</td>\n",
              "      <td>1.5</td>\n",
              "      <td>0.1</td>\n",
              "      <td>0</td>\n",
              "    </tr>\n",
              "    <tr>\n",
              "      <th>4</th>\n",
              "      <td>5.7</td>\n",
              "      <td>3.8</td>\n",
              "      <td>1.7</td>\n",
              "      <td>0.3</td>\n",
              "      <td>0</td>\n",
              "    </tr>\n",
              "  </tbody>\n",
              "</table>\n",
              "</div>\n",
              "      <button class=\"colab-df-convert\" onclick=\"convertToInteractive('df-e17238bd-b90f-49b2-820b-7cd9431464f2')\"\n",
              "              title=\"Convert this dataframe to an interactive table.\"\n",
              "              style=\"display:none;\">\n",
              "        \n",
              "  <svg xmlns=\"http://www.w3.org/2000/svg\" height=\"24px\"viewBox=\"0 0 24 24\"\n",
              "       width=\"24px\">\n",
              "    <path d=\"M0 0h24v24H0V0z\" fill=\"none\"/>\n",
              "    <path d=\"M18.56 5.44l.94 2.06.94-2.06 2.06-.94-2.06-.94-.94-2.06-.94 2.06-2.06.94zm-11 1L8.5 8.5l.94-2.06 2.06-.94-2.06-.94L8.5 2.5l-.94 2.06-2.06.94zm10 10l.94 2.06.94-2.06 2.06-.94-2.06-.94-.94-2.06-.94 2.06-2.06.94z\"/><path d=\"M17.41 7.96l-1.37-1.37c-.4-.4-.92-.59-1.43-.59-.52 0-1.04.2-1.43.59L10.3 9.45l-7.72 7.72c-.78.78-.78 2.05 0 2.83L4 21.41c.39.39.9.59 1.41.59.51 0 1.02-.2 1.41-.59l7.78-7.78 2.81-2.81c.8-.78.8-2.07 0-2.86zM5.41 20L4 18.59l7.72-7.72 1.47 1.35L5.41 20z\"/>\n",
              "  </svg>\n",
              "      </button>\n",
              "      \n",
              "  <style>\n",
              "    .colab-df-container {\n",
              "      display:flex;\n",
              "      flex-wrap:wrap;\n",
              "      gap: 12px;\n",
              "    }\n",
              "\n",
              "    .colab-df-convert {\n",
              "      background-color: #E8F0FE;\n",
              "      border: none;\n",
              "      border-radius: 50%;\n",
              "      cursor: pointer;\n",
              "      display: none;\n",
              "      fill: #1967D2;\n",
              "      height: 32px;\n",
              "      padding: 0 0 0 0;\n",
              "      width: 32px;\n",
              "    }\n",
              "\n",
              "    .colab-df-convert:hover {\n",
              "      background-color: #E2EBFA;\n",
              "      box-shadow: 0px 1px 2px rgba(60, 64, 67, 0.3), 0px 1px 3px 1px rgba(60, 64, 67, 0.15);\n",
              "      fill: #174EA6;\n",
              "    }\n",
              "\n",
              "    [theme=dark] .colab-df-convert {\n",
              "      background-color: #3B4455;\n",
              "      fill: #D2E3FC;\n",
              "    }\n",
              "\n",
              "    [theme=dark] .colab-df-convert:hover {\n",
              "      background-color: #434B5C;\n",
              "      box-shadow: 0px 1px 3px 1px rgba(0, 0, 0, 0.15);\n",
              "      filter: drop-shadow(0px 1px 2px rgba(0, 0, 0, 0.3));\n",
              "      fill: #FFFFFF;\n",
              "    }\n",
              "  </style>\n",
              "\n",
              "      <script>\n",
              "        const buttonEl =\n",
              "          document.querySelector('#df-e17238bd-b90f-49b2-820b-7cd9431464f2 button.colab-df-convert');\n",
              "        buttonEl.style.display =\n",
              "          google.colab.kernel.accessAllowed ? 'block' : 'none';\n",
              "\n",
              "        async function convertToInteractive(key) {\n",
              "          const element = document.querySelector('#df-e17238bd-b90f-49b2-820b-7cd9431464f2');\n",
              "          const dataTable =\n",
              "            await google.colab.kernel.invokeFunction('convertToInteractive',\n",
              "                                                     [key], {});\n",
              "          if (!dataTable) return;\n",
              "\n",
              "          const docLinkHtml = 'Like what you see? Visit the ' +\n",
              "            '<a target=\"_blank\" href=https://colab.research.google.com/notebooks/data_table.ipynb>data table notebook</a>'\n",
              "            + ' to learn more about interactive tables.';\n",
              "          element.innerHTML = '';\n",
              "          dataTable['output_type'] = 'display_data';\n",
              "          await google.colab.output.renderOutput(dataTable, element);\n",
              "          const docLink = document.createElement('div');\n",
              "          docLink.innerHTML = docLinkHtml;\n",
              "          element.appendChild(docLink);\n",
              "        }\n",
              "      </script>\n",
              "    </div>\n",
              "  </div>\n",
              "  "
            ],
            "text/plain": [
              "   SepalLength  SepalWidth  PetalLength  PetalWidth  Species\n",
              "0          6.4         2.8          5.6         2.2        2\n",
              "1          5.0         2.3          3.3         1.0        1\n",
              "2          4.9         2.5          4.5         1.7        2\n",
              "3          4.9         3.1          1.5         0.1        0\n",
              "4          5.7         3.8          1.7         0.3        0"
            ]
          },
          "metadata": {},
          "execution_count": 4
        }
      ]
    },
    {
      "cell_type": "markdown",
      "source": [
        "Our species are defined numerically, so we don't need to redefine the data. They are in the order we gave them in. \n",
        "\n",
        "Lengths in cm "
      ],
      "metadata": {
        "id": "jygJrHBHMfRv"
      }
    },
    {
      "cell_type": "code",
      "source": [
        "# Popping off labels \n",
        "train_y = train.pop('Species')\n",
        "test_y = test.pop('Species')"
      ],
      "metadata": {
        "id": "3SpqveAoMphn"
      },
      "execution_count": null,
      "outputs": []
    },
    {
      "cell_type": "markdown",
      "source": [
        "##Input Function"
      ],
      "metadata": {
        "id": "TgWxko5vNB-J"
      }
    },
    {
      "cell_type": "code",
      "source": [
        "def input_fn(features, labels, \n",
        "             training=True, batch_size=256):\n",
        "  # Covert the inputs to a Dataset\n",
        "  dataset = tf.data.Dataset.from_tensor_slices((dict(features), labels))\n",
        "\n",
        "  if training:\n",
        "    dataset = dataset.shuffle(1000).repeat()\n",
        "\n",
        "  return dataset.batch(batch_size)"
      ],
      "metadata": {
        "id": "Zr_P1qo2NDk9"
      },
      "execution_count": null,
      "outputs": []
    },
    {
      "cell_type": "markdown",
      "source": [
        "Notice we don't have any epochs and we are not returning an input function, we are just doing it. "
      ],
      "metadata": {
        "id": "Rh5ROW-jNlis"
      }
    },
    {
      "cell_type": "markdown",
      "source": [
        "##Feature Columns"
      ],
      "metadata": {
        "id": "pob9MZamQuXg"
      }
    },
    {
      "cell_type": "code",
      "source": [
        "feature_columns = []\n",
        "for key in train.keys():\n",
        "  feature_columns.append(tf.feature_column.numeric_column(key=key))\n",
        "\n",
        "feature_columns"
      ],
      "metadata": {
        "colab": {
          "base_uri": "https://localhost:8080/"
        },
        "id": "5EQF2IxvQyWa",
        "outputId": "23ebf071-d7e2-447f-b3dd-373400d6e071"
      },
      "execution_count": null,
      "outputs": [
        {
          "output_type": "execute_result",
          "data": {
            "text/plain": [
              "[NumericColumn(key='SepalLength', shape=(1,), default_value=None, dtype=tf.float32, normalizer_fn=None),\n",
              " NumericColumn(key='SepalWidth', shape=(1,), default_value=None, dtype=tf.float32, normalizer_fn=None),\n",
              " NumericColumn(key='PetalLength', shape=(1,), default_value=None, dtype=tf.float32, normalizer_fn=None),\n",
              " NumericColumn(key='PetalWidth', shape=(1,), default_value=None, dtype=tf.float32, normalizer_fn=None)]"
            ]
          },
          "metadata": {},
          "execution_count": 7
        }
      ]
    },
    {
      "cell_type": "markdown",
      "source": [
        "##Building the Model\n",
        "\n",
        "TensorFlow has a lot of different pre-made models. For classification, we have two choices\n",
        "\n",
        "* `DNNClassifier` - A Deep Neural Network Classifier \n",
        "* `LinearClassifier` - Similar to Linear Regression\n",
        "\n",
        "Since our data might not have a linear relationship, let's use DNN\n",
        "\n",
        "Let's build a model! "
      ],
      "metadata": {
        "id": "x3Hu08QzfPzW"
      }
    },
    {
      "cell_type": "code",
      "source": [
        "# Let's build a DNN with 2 hidden layers with 30 and 10 hidden nodes each \n",
        "\n",
        "classifier = tf.estimator.DNNClassifier(\n",
        "    feature_columns=feature_columns,\n",
        "\n",
        "    # 2 hidden layers with layers of 30 and 10 nodes each\n",
        "    hidden_units=[30,10],\n",
        "\n",
        "    # Model is choosing between 3 classes\n",
        "    n_classes=3)"
      ],
      "metadata": {
        "colab": {
          "base_uri": "https://localhost:8080/"
        },
        "id": "CC_2z2cgfqEr",
        "outputId": "592c6685-3a07-48ca-be13-44cdbf0e7e60"
      },
      "execution_count": null,
      "outputs": [
        {
          "output_type": "stream",
          "name": "stdout",
          "text": [
            "INFO:tensorflow:Using default config.\n",
            "WARNING:tensorflow:Using temporary folder as model directory: /tmp/tmpcs0amb15\n",
            "INFO:tensorflow:Using config: {'_model_dir': '/tmp/tmpcs0amb15', '_tf_random_seed': None, '_save_summary_steps': 100, '_save_checkpoints_steps': None, '_save_checkpoints_secs': 600, '_session_config': allow_soft_placement: true\n",
            "graph_options {\n",
            "  rewrite_options {\n",
            "    meta_optimizer_iterations: ONE\n",
            "  }\n",
            "}\n",
            ", '_keep_checkpoint_max': 5, '_keep_checkpoint_every_n_hours': 10000, '_log_step_count_steps': 100, '_train_distribute': None, '_device_fn': None, '_protocol': None, '_eval_distribute': None, '_experimental_distribute': None, '_experimental_max_worker_delay_secs': None, '_session_creation_timeout_secs': 7200, '_checkpoint_save_graph_def': True, '_service': None, '_cluster_spec': ClusterSpec({}), '_task_type': 'worker', '_task_id': 0, '_global_id_in_cluster': 0, '_master': '', '_evaluation_master': '', '_is_chief': True, '_num_ps_replicas': 0, '_num_worker_replicas': 1}\n"
          ]
        }
      ]
    },
    {
      "cell_type": "markdown",
      "source": [
        "##Training the Model"
      ],
      "metadata": {
        "id": "AXdonsDlgT28"
      }
    },
    {
      "cell_type": "code",
      "source": [
        "classifier.train(\n",
        "    input_fn=lambda: input_fn(train, train_y, training=True), \n",
        "    # expects a function object, so we use lambda to covert it to one\n",
        "\n",
        "    steps=5000 # similar to epoch, but we are going through the dataset \n",
        "    # until we have gone through 5000 data points instead of seeing\n",
        "    # whole data set multiple times  \n",
        ")"
      ],
      "metadata": {
        "colab": {
          "base_uri": "https://localhost:8080/"
        },
        "id": "dbnL1scmgXQT",
        "outputId": "c8a1eed7-7860-4af4-8d2b-01bafb1f8be0"
      },
      "execution_count": null,
      "outputs": [
        {
          "output_type": "stream",
          "name": "stdout",
          "text": [
            "INFO:tensorflow:Calling model_fn.\n",
            "INFO:tensorflow:Done calling model_fn.\n",
            "INFO:tensorflow:Create CheckpointSaverHook.\n",
            "INFO:tensorflow:Graph was finalized.\n",
            "INFO:tensorflow:Restoring parameters from /tmp/tmpcs0amb15/model.ckpt-5000\n",
            "WARNING:tensorflow:From /usr/local/lib/python3.7/dist-packages/tensorflow/python/training/saver.py:1161: get_checkpoint_mtimes (from tensorflow.python.training.checkpoint_management) is deprecated and will be removed in a future version.\n",
            "Instructions for updating:\n",
            "Use standard file utilities to get mtimes.\n",
            "INFO:tensorflow:Running local_init_op.\n",
            "INFO:tensorflow:Done running local_init_op.\n",
            "INFO:tensorflow:Calling checkpoint listeners before saving checkpoint 5000...\n",
            "INFO:tensorflow:Saving checkpoints for 5000 into /tmp/tmpcs0amb15/model.ckpt.\n",
            "INFO:tensorflow:Calling checkpoint listeners after saving checkpoint 5000...\n",
            "INFO:tensorflow:loss = 0.4289471, step = 5000\n",
            "INFO:tensorflow:global_step/sec: 180.524\n",
            "INFO:tensorflow:loss = 0.43277976, step = 5100 (0.559 sec)\n",
            "INFO:tensorflow:global_step/sec: 210.841\n",
            "INFO:tensorflow:loss = 0.4246751, step = 5200 (0.473 sec)\n",
            "INFO:tensorflow:global_step/sec: 231.727\n",
            "INFO:tensorflow:loss = 0.4170404, step = 5300 (0.437 sec)\n",
            "INFO:tensorflow:global_step/sec: 233.808\n",
            "INFO:tensorflow:loss = 0.41539505, step = 5400 (0.423 sec)\n",
            "INFO:tensorflow:global_step/sec: 216.383\n",
            "INFO:tensorflow:loss = 0.40595037, step = 5500 (0.462 sec)\n",
            "INFO:tensorflow:global_step/sec: 228.55\n",
            "INFO:tensorflow:loss = 0.4034834, step = 5600 (0.437 sec)\n",
            "INFO:tensorflow:global_step/sec: 207.364\n",
            "INFO:tensorflow:loss = 0.40304524, step = 5700 (0.483 sec)\n",
            "INFO:tensorflow:global_step/sec: 200.16\n",
            "INFO:tensorflow:loss = 0.39547044, step = 5800 (0.500 sec)\n",
            "INFO:tensorflow:global_step/sec: 202.446\n",
            "INFO:tensorflow:loss = 0.39379987, step = 5900 (0.494 sec)\n",
            "INFO:tensorflow:global_step/sec: 207.421\n",
            "INFO:tensorflow:loss = 0.39853328, step = 6000 (0.482 sec)\n",
            "INFO:tensorflow:global_step/sec: 203.805\n",
            "INFO:tensorflow:loss = 0.39007905, step = 6100 (0.491 sec)\n",
            "INFO:tensorflow:global_step/sec: 201.657\n",
            "INFO:tensorflow:loss = 0.38473105, step = 6200 (0.495 sec)\n",
            "INFO:tensorflow:global_step/sec: 186.817\n",
            "INFO:tensorflow:loss = 0.3907686, step = 6300 (0.535 sec)\n",
            "INFO:tensorflow:global_step/sec: 212.211\n",
            "INFO:tensorflow:loss = 0.38821805, step = 6400 (0.471 sec)\n",
            "INFO:tensorflow:global_step/sec: 194.054\n",
            "INFO:tensorflow:loss = 0.37978834, step = 6500 (0.519 sec)\n",
            "INFO:tensorflow:global_step/sec: 179.428\n",
            "INFO:tensorflow:loss = 0.38250583, step = 6600 (0.558 sec)\n",
            "INFO:tensorflow:global_step/sec: 203.905\n",
            "INFO:tensorflow:loss = 0.36241087, step = 6700 (0.489 sec)\n",
            "INFO:tensorflow:global_step/sec: 203.803\n",
            "INFO:tensorflow:loss = 0.370298, step = 6800 (0.493 sec)\n",
            "INFO:tensorflow:global_step/sec: 191.049\n",
            "INFO:tensorflow:loss = 0.36603606, step = 6900 (0.521 sec)\n",
            "INFO:tensorflow:global_step/sec: 198.137\n",
            "INFO:tensorflow:loss = 0.35766447, step = 7000 (0.505 sec)\n",
            "INFO:tensorflow:global_step/sec: 209.068\n",
            "INFO:tensorflow:loss = 0.3613879, step = 7100 (0.479 sec)\n",
            "INFO:tensorflow:global_step/sec: 224.882\n",
            "INFO:tensorflow:loss = 0.35904345, step = 7200 (0.444 sec)\n",
            "INFO:tensorflow:global_step/sec: 219.568\n",
            "INFO:tensorflow:loss = 0.35463846, step = 7300 (0.456 sec)\n",
            "INFO:tensorflow:global_step/sec: 193.931\n",
            "INFO:tensorflow:loss = 0.35920995, step = 7400 (0.511 sec)\n",
            "INFO:tensorflow:global_step/sec: 196.374\n",
            "INFO:tensorflow:loss = 0.35315627, step = 7500 (0.516 sec)\n",
            "INFO:tensorflow:global_step/sec: 205.358\n",
            "INFO:tensorflow:loss = 0.34850386, step = 7600 (0.482 sec)\n",
            "INFO:tensorflow:global_step/sec: 216.618\n",
            "INFO:tensorflow:loss = 0.3498874, step = 7700 (0.462 sec)\n",
            "INFO:tensorflow:global_step/sec: 187.029\n",
            "INFO:tensorflow:loss = 0.35544538, step = 7800 (0.534 sec)\n",
            "INFO:tensorflow:global_step/sec: 193.804\n",
            "INFO:tensorflow:loss = 0.3461151, step = 7900 (0.527 sec)\n",
            "INFO:tensorflow:global_step/sec: 185.777\n",
            "INFO:tensorflow:loss = 0.3390491, step = 8000 (0.527 sec)\n",
            "INFO:tensorflow:global_step/sec: 205.287\n",
            "INFO:tensorflow:loss = 0.34049857, step = 8100 (0.493 sec)\n",
            "INFO:tensorflow:global_step/sec: 156.513\n",
            "INFO:tensorflow:loss = 0.34663054, step = 8200 (0.633 sec)\n",
            "INFO:tensorflow:global_step/sec: 146.504\n",
            "INFO:tensorflow:loss = 0.33423254, step = 8300 (0.685 sec)\n",
            "INFO:tensorflow:global_step/sec: 153.452\n",
            "INFO:tensorflow:loss = 0.32577547, step = 8400 (0.651 sec)\n",
            "INFO:tensorflow:global_step/sec: 183.01\n",
            "INFO:tensorflow:loss = 0.33751994, step = 8500 (0.544 sec)\n",
            "INFO:tensorflow:global_step/sec: 188.236\n",
            "INFO:tensorflow:loss = 0.33030015, step = 8600 (0.539 sec)\n",
            "INFO:tensorflow:global_step/sec: 120.253\n",
            "INFO:tensorflow:loss = 0.33452156, step = 8700 (0.833 sec)\n",
            "INFO:tensorflow:global_step/sec: 145.286\n",
            "INFO:tensorflow:loss = 0.3246196, step = 8800 (0.681 sec)\n",
            "INFO:tensorflow:global_step/sec: 120.36\n",
            "INFO:tensorflow:loss = 0.32209605, step = 8900 (0.835 sec)\n",
            "INFO:tensorflow:global_step/sec: 191.181\n",
            "INFO:tensorflow:loss = 0.324423, step = 9000 (0.519 sec)\n",
            "INFO:tensorflow:global_step/sec: 352.518\n",
            "INFO:tensorflow:loss = 0.32889283, step = 9100 (0.282 sec)\n",
            "INFO:tensorflow:global_step/sec: 319.274\n",
            "INFO:tensorflow:loss = 0.32173407, step = 9200 (0.313 sec)\n",
            "INFO:tensorflow:global_step/sec: 303.204\n",
            "INFO:tensorflow:loss = 0.32495016, step = 9300 (0.333 sec)\n",
            "INFO:tensorflow:global_step/sec: 317.78\n",
            "INFO:tensorflow:loss = 0.3101924, step = 9400 (0.312 sec)\n",
            "INFO:tensorflow:global_step/sec: 311.388\n",
            "INFO:tensorflow:loss = 0.31574976, step = 9500 (0.324 sec)\n",
            "INFO:tensorflow:global_step/sec: 355.951\n",
            "INFO:tensorflow:loss = 0.29747906, step = 9600 (0.281 sec)\n",
            "INFO:tensorflow:global_step/sec: 377.144\n",
            "INFO:tensorflow:loss = 0.3101892, step = 9700 (0.264 sec)\n",
            "INFO:tensorflow:global_step/sec: 320.789\n",
            "INFO:tensorflow:loss = 0.3011608, step = 9800 (0.309 sec)\n",
            "INFO:tensorflow:global_step/sec: 427.19\n",
            "INFO:tensorflow:loss = 0.31131274, step = 9900 (0.236 sec)\n",
            "INFO:tensorflow:Calling checkpoint listeners before saving checkpoint 10000...\n",
            "INFO:tensorflow:Saving checkpoints for 10000 into /tmp/tmpcs0amb15/model.ckpt.\n",
            "INFO:tensorflow:Calling checkpoint listeners after saving checkpoint 10000...\n",
            "INFO:tensorflow:Loss for final step: 0.31114468.\n"
          ]
        },
        {
          "output_type": "execute_result",
          "data": {
            "text/plain": [
              "<tensorflow_estimator.python.estimator.canned.dnn.DNNClassifierV2 at 0x7ff4ad83b810>"
            ]
          },
          "metadata": {},
          "execution_count": 20
        }
      ]
    },
    {
      "cell_type": "code",
      "source": [
        "from IPython.core.display import clear_output\n",
        "# Evaluating the model\n",
        "\n",
        "eval_result = classifier.evaluate(\n",
        "    input_fn=lambda:input_fn(test, test_y, training=False),\n",
        "    steps=5000)\n",
        "\n",
        "clear_output()\n",
        "print(f\"\\nTest set accuracy of the model: {eval_result['accuracy']}\")"
      ],
      "metadata": {
        "colab": {
          "base_uri": "https://localhost:8080/"
        },
        "id": "R3M04zO5iRKs",
        "outputId": "88fca5cf-7a95-4b2d-fcf4-2bed1e2b1fb2"
      },
      "execution_count": null,
      "outputs": [
        {
          "output_type": "stream",
          "name": "stdout",
          "text": [
            "\n",
            "Test set accuracy of the model: 0.9666666388511658\n"
          ]
        }
      ]
    },
    {
      "cell_type": "code",
      "source": [
        "## Let's make a prediction on any single data point\n",
        "expected = ['Setosa', 'Versicolor', 'Virginica']\n",
        "predict_x = {\n",
        "    'SepalLength': [5.1, 5.9, 6.9],\n",
        "    'SepalWidth': [3.3, 3.0, 3.1],\n",
        "    'PetalLength': [1.7, 4.2, 5.4],\n",
        "    'PetalWidth': [0.5, 1.5, 2.1],\n",
        "}\n",
        "\n",
        "def input_fn(features, batch_size=256):\n",
        "    \"\"\"An input function for prediction.\"\"\"\n",
        "    # Convert the inputs to a Dataset without labels.\n",
        "    return tf.data.Dataset.from_tensor_slices(dict(features)).batch(batch_size)\n",
        "\n",
        "predictions = classifier.predict(\n",
        "    input_fn=lambda: input_fn(predict_x))\n",
        "\n",
        "for pred_dict, expec in zip(predictions, expected):\n",
        "    class_id = pred_dict['class_ids'][0]\n",
        "    probability = pred_dict['probabilities'][class_id]\n",
        "\n",
        "    print('Prediction is \"{}\" ({:.1f}%), expected \"{}\"'.format(\n",
        "        SPECIES[class_id], 100 * probability, expec))\n"
      ],
      "metadata": {
        "colab": {
          "base_uri": "https://localhost:8080/"
        },
        "id": "UvK_oAhlkaXE",
        "outputId": "77491931-fd63-4fca-f52d-eef73f115027"
      },
      "execution_count": null,
      "outputs": [
        {
          "output_type": "stream",
          "name": "stdout",
          "text": [
            "INFO:tensorflow:Calling model_fn.\n",
            "INFO:tensorflow:Done calling model_fn.\n",
            "INFO:tensorflow:Graph was finalized.\n",
            "INFO:tensorflow:Restoring parameters from /tmp/tmpcs0amb15/model.ckpt-10000\n",
            "INFO:tensorflow:Running local_init_op.\n",
            "INFO:tensorflow:Done running local_init_op.\n",
            "Prediction is \"Setosa\" (87.5%), expected \"Setosa\"\n",
            "Prediction is \"Versicolor\" (61.2%), expected \"Versicolor\"\n",
            "Prediction is \"Virginica\" (66.5%), expected \"Virginica\"\n"
          ]
        }
      ]
    }
  ]
}