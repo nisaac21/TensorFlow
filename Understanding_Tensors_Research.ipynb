{
  "nbformat": 4,
  "nbformat_minor": 0,
  "metadata": {
    "colab": {
      "provenance": [],
      "authorship_tag": "ABX9TyMJm9Xx+ZOINgNWthLavEBj",
      "include_colab_link": true
    },
    "kernelspec": {
      "name": "python3",
      "display_name": "Python 3"
    },
    "language_info": {
      "name": "python"
    }
  },
  "cells": [
    {
      "cell_type": "markdown",
      "metadata": {
        "id": "view-in-github",
        "colab_type": "text"
      },
      "source": [
        "<a href=\"https://colab.research.google.com/github/nisaac21/TensorFlow/blob/main/Understanding_Tensors_Research.ipynb\" target=\"_parent\"><img src=\"https://colab.research.google.com/assets/colab-badge.svg\" alt=\"Open In Colab\"/></a>"
      ]
    },
    {
      "cell_type": "code",
      "source": [
        "import tensorflow as tf\n",
        "print(\"TensorFlow version:\", tf.__version__)"
      ],
      "metadata": {
        "colab": {
          "base_uri": "https://localhost:8080/"
        },
        "id": "gV6IPsAQrhq3",
        "outputId": "d0c2fb3a-5a90-48ba-f25c-90ebbb2d54af"
      },
      "execution_count": null,
      "outputs": [
        {
          "output_type": "stream",
          "name": "stdout",
          "text": [
            "TensorFlow version: 2.8.0\n"
          ]
        }
      ]
    },
    {
      "cell_type": "markdown",
      "source": [
        "##**Tensors**\n",
        "* What are they?\n",
        "  * Vectors generalized to higher dimensions \n",
        "    * Vectors are kind of like data points, that are not bound to specific coordinates.\n",
        "    * Vectors can come in any amount of dimensions\n",
        "  * \"A tensor is a generalization of vectors and matrices to potentially higher dimensions. Internally, TensorFlow represents tensors as n-dimensional arrays of base datatypes\"\n",
        "* How are they used?\n",
        "  * Tensors are the main objects used in TensorFlow\n",
        "  * Tensors store partially defined computation in the graph \n",
        "\n",
        "* Each tensor as a *datatype* (float32, int32, string, etc.) and *shape* (dimensions)"
      ],
      "metadata": {
        "id": "68kQHIMXqfnt"
      }
    },
    {
      "cell_type": "markdown",
      "source": [
        "##**Creating Tensors**"
      ],
      "metadata": {
        "id": "L8MVzawprVHq"
      }
    },
    {
      "cell_type": "code",
      "source": [
        "# tf.Variable( variable, tf.datatype)\n",
        "\n",
        "# stores one string, of data type string\n",
        "string = tf.Variable(\"this is a string\", tf.string) \n",
        "\n",
        "number = tf.Variable(324, tf.int16)\n",
        "floating = tf.Variable(3.567, tf.float32)\n",
        "\n",
        "# All these have a shape of one"
      ],
      "metadata": {
        "colab": {
          "base_uri": "https://localhost:8080/"
        },
        "id": "kT50vE0MrXkH",
        "outputId": "fce91dbc-2894-46af-c425-b8fc2ba9eeaf"
      },
      "execution_count": null,
      "outputs": [
        {
          "output_type": "execute_result",
          "data": {
            "text/plain": [
              "<tf.Variable 'Variable:0' shape=() dtype=string, numpy=b'this is a string'>"
            ]
          },
          "metadata": {},
          "execution_count": 5
        }
      ]
    },
    {
      "cell_type": "markdown",
      "source": [
        "These are *scalars* - have one vlaue\n",
        "\n",
        "Don't typically use these in programs"
      ],
      "metadata": {
        "id": "Dsr3TejMsRee"
      }
    },
    {
      "cell_type": "markdown",
      "source": [
        "##**Rank/Degree of Tensors**\n",
        "\n",
        "This is just the number of dimensions involved in the tensors.\n",
        "\n",
        "* rank 0 = scalar\n",
        "  * We don't have dimensions, its just one value \n",
        "* rank 1 = array\n",
        "  * It's just one dimension, with all value stored on the same array\n",
        "* rank 2 = array within array AKA matrix\n",
        "* rank n = check how deeply nested lowest level array is, that is your n\n",
        "\n",
        "Let's look at a higher level"
      ],
      "metadata": {
        "id": "bp5p3mqMsYYF"
      }
    },
    {
      "cell_type": "code",
      "source": [
        "rank1_tensor = tf.Variable([\"This\", \"is\", \"rank 1\"], tf.string) # still a string\n",
        "rank2_tensor = tf.Variable([[\"This is\"], [\"rank 2\"]], tf.string)"
      ],
      "metadata": {
        "id": "h-qPGQ4Asooh"
      },
      "execution_count": null,
      "outputs": []
    },
    {
      "cell_type": "markdown",
      "source": [
        "To determine the rank of a tensors.."
      ],
      "metadata": {
        "id": "lnRLKUOPtCq2"
      }
    },
    {
      "cell_type": "code",
      "source": [
        "tf.rank(rank2_tensor) #numpy is our rank"
      ],
      "metadata": {
        "colab": {
          "base_uri": "https://localhost:8080/"
        },
        "id": "fso6YbW2tPLS",
        "outputId": "77b568e6-04ea-4bbc-cf90-798775a39624"
      },
      "execution_count": null,
      "outputs": [
        {
          "output_type": "execute_result",
          "data": {
            "text/plain": [
              "<tf.Tensor: shape=(), dtype=int32, numpy=2>"
            ]
          },
          "metadata": {},
          "execution_count": 8
        }
      ]
    },
    {
      "cell_type": "markdown",
      "source": [
        "##**Shape of Tensors**\n",
        "\n",
        "This tells us how many elements exist in each dimensions. Shape can sometimes be unknown"
      ],
      "metadata": {
        "id": "LbHr2aIdtfgF"
      }
    },
    {
      "cell_type": "code",
      "source": [
        "rank2_tensor.shape \n",
        "# 2 lists in first dimension, 1 element in ea list "
      ],
      "metadata": {
        "colab": {
          "base_uri": "https://localhost:8080/"
        },
        "id": "M1uQoUrAtp2G",
        "outputId": "ebb00593-0709-45fd-b01d-bad6ca98009f"
      },
      "execution_count": null,
      "outputs": [
        {
          "output_type": "execute_result",
          "data": {
            "text/plain": [
              "TensorShape([2, 1])"
            ]
          },
          "metadata": {},
          "execution_count": 11
        }
      ]
    },
    {
      "cell_type": "markdown",
      "source": [
        "##Changing Shape\n",
        "\n",
        "We often have to do this with TensorFlow\n",
        "\n",
        "There are many different way to reshape the data. Example, we could take our rank2, and FLATTEN it into a rank 1"
      ],
      "metadata": {
        "id": "FByEpXcSuJgW"
      }
    },
    {
      "cell_type": "code",
      "source": [
        "tensor1 = tf.ones([1,2,3]) # creates a shape of 1,2,3 filled with 1's\n",
        "# 3rd dimension has two lists each of which has 3 elements of 1's in it\n",
        "print(tensor1)"
      ],
      "metadata": {
        "colab": {
          "base_uri": "https://localhost:8080/"
        },
        "id": "fk2cY2YUuV9L",
        "outputId": "fc667648-f37d-4403-8373-585c32b87f83"
      },
      "execution_count": null,
      "outputs": [
        {
          "output_type": "stream",
          "name": "stdout",
          "text": [
            "tf.Tensor(\n",
            "[[[1. 1. 1.]\n",
            "  [1. 1. 1.]]], shape=(1, 2, 3), dtype=float32)\n"
          ]
        }
      ]
    },
    {
      "cell_type": "code",
      "source": [
        "tensor2 = tf.reshape(tensor1, [2,3,1]) # reshapes existing data into (2,3,1)\n",
        "\n",
        "tensor3 = tf.reshape(tensor2, [3,-1]) # -1 tells tf to calculate size\n",
        "                                      # of dimension in that place "
      ],
      "metadata": {
        "id": "kd56h2YCuzP8"
      },
      "execution_count": null,
      "outputs": []
    },
    {
      "cell_type": "code",
      "source": [
        "print(tensor1)\n",
        "print(tensor2)\n",
        "print(tensor3)"
      ],
      "metadata": {
        "colab": {
          "base_uri": "https://localhost:8080/"
        },
        "id": "_rPV0GbQvFwr",
        "outputId": "5fde753a-fee8-4c36-b8c8-4e05fcaa465b"
      },
      "execution_count": null,
      "outputs": [
        {
          "output_type": "stream",
          "name": "stdout",
          "text": [
            "tf.Tensor(\n",
            "[[[1. 1. 1.]\n",
            "  [1. 1. 1.]]], shape=(1, 2, 3), dtype=float32)\n",
            "tf.Tensor(\n",
            "[[[1.]\n",
            "  [1.]\n",
            "  [1.]]\n",
            "\n",
            " [[1.]\n",
            "  [1.]\n",
            "  [1.]]], shape=(2, 3, 1), dtype=float32)\n",
            "tf.Tensor(\n",
            "[[1. 1.]\n",
            " [1. 1.]\n",
            " [1. 1.]], shape=(3, 2), dtype=float32)\n"
          ]
        }
      ]
    },
    {
      "cell_type": "markdown",
      "source": [
        "Up to here we have only used *tf.Variable* but in practice we won't use that too much. Let's look at the other types of tensors..."
      ],
      "metadata": {
        "id": "-4wevm7xv0zd"
      }
    },
    {
      "cell_type": "markdown",
      "source": [
        "##**Types of Tensors**\n",
        "\n",
        "The most commonly used tensors are...\n",
        "\n",
        "* Variable\n",
        "* Constant\n",
        "* Placeholder\n",
        "* SpareseTensor\n",
        "\n",
        "Besides `Variable` all of these tensors are immuttable (value does not change during execution). \n",
        "  * All of these have constant values, whereas Variable allows for it to change \n",
        "  "
      ],
      "metadata": {
        "id": "ppiL5-SwwCGn"
      }
    },
    {
      "cell_type": "markdown",
      "source": [
        "##**Evaluating Tensors**\n",
        "\n",
        "There will be times we have a tensor object, and we have to evaluate how it does something else. We use...\n",
        "\n",
        "```python \n",
        "with tf.Session() as sess: # Uses session as default graph\n",
        "  tensor.eval() # tensor would be tensor being evaluated\n",
        "```"
      ],
      "metadata": {
        "id": "5sPipYa5xJu6"
      }
    }
  ]
}