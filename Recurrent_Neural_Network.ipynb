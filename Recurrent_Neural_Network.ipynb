{
  "nbformat": 4,
  "nbformat_minor": 0,
  "metadata": {
    "colab": {
      "provenance": [],
      "authorship_tag": "ABX9TyPmf8OgnflVYg3k5DWODtEM",
      "include_colab_link": true
    },
    "kernelspec": {
      "name": "python3",
      "display_name": "Python 3"
    },
    "language_info": {
      "name": "python"
    },
    "accelerator": "GPU"
  },
  "cells": [
    {
      "cell_type": "markdown",
      "metadata": {
        "id": "view-in-github",
        "colab_type": "text"
      },
      "source": [
        "<a href=\"https://colab.research.google.com/github/nisaac21/TensorFlow/blob/main/Recurrent_Neural_Network.ipynb\" target=\"_parent\"><img src=\"https://colab.research.google.com/assets/colab-badge.svg\" alt=\"Open In Colab\"/></a>"
      ]
    },
    {
      "cell_type": "markdown",
      "source": [
        "##**Natural Language Processing**\n",
        "\n",
        "NLP is computing that deals with trying to understand actual human language. Some examples are translations, autofill, spellcheck, etc.\n",
        "\n",
        "##Recurrent Neural Networks\n",
        "\n",
        "In this tutorial we will introduce a new kind of neural network that is much more capable of processing sequential data such as text or characters called a **recurrent neural network** (RNN for short). \n",
        "\n",
        "They work by using *sequential memory*. When we learn the alphabet, we learn it as a sequence. So saying it in full is easy, but trying to say it backwards is very tough. Moreover, if we start at an arbitrary letter, it will be hard to get the next few letters but then the rest will follow quickly as we picked up on the pattern. "
      ],
      "metadata": {
        "id": "pqa6UdTBwACm"
      }
    },
    {
      "cell_type": "markdown",
      "source": [
        "##**Ecoding Textual Data**\n",
        "\n",
        "##Bag of Words\n",
        "\n",
        "In this algorithm, we create a vocabulary (list of words), and use a number that represents every single word. In a large data set, this can mean a very large dictionary. \n",
        "  * We only track words that we have seen, and how frequently they occur. We loose the order of the words, but we have the frequency. It's like throwing all the words that appear into a bag.\n",
        "\n",
        "```I thought the movie was going to be bad, but it was actually amazing!```\n",
        "\n",
        "```I thought the movie was going to be amazing, but it was actually bad!```\n",
        "\n",
        "These two sentences have the exact same words and frequency, but have very different meanings. We loose that meaning using bag of words because these two would be encoded the same. "
      ],
      "metadata": {
        "id": "YoBHOmgl1LQf"
      }
    },
    {
      "cell_type": "code",
      "source": [
        "vocab = {}  # maps word to integer representing it\n",
        "word_encoding = 1\n",
        "def bag_of_words(text):\n",
        "  global word_encoding\n",
        "\n",
        "  words = text.lower().split(\" \")  # create a list of all of the words in the text, well assume there is no grammar in our text for this example\n",
        "  bag = {}  # stores all of the encodings and their frequency\n",
        "\n",
        "  for word in words:\n",
        "    if word in vocab:\n",
        "      encoding = vocab[word]  # get encoding from vocab\n",
        "    else:\n",
        "      vocab[word] = word_encoding\n",
        "      encoding = word_encoding\n",
        "      word_encoding += 1\n",
        "    \n",
        "    if encoding in bag:\n",
        "      bag[encoding] += 1\n",
        "    else:\n",
        "      bag[encoding] = 1\n",
        "  \n",
        "  return bag\n",
        "\n",
        "text = \"this is a test to see if this test will work is is test a a\"\n",
        "bag = bag_of_words(text)\n",
        "print(bag)\n",
        "print(vocab)"
      ],
      "metadata": {
        "id": "u-FsCCx_3DOp",
        "colab": {
          "base_uri": "https://localhost:8080/"
        },
        "outputId": "e470401a-6f5d-41f1-b98f-b74725662daa"
      },
      "execution_count": null,
      "outputs": [
        {
          "output_type": "stream",
          "name": "stdout",
          "text": [
            "{1: 2, 2: 3, 3: 3, 4: 3, 5: 1, 6: 1, 7: 1, 8: 1, 9: 1}\n",
            "{'this': 1, 'is': 2, 'a': 3, 'test': 4, 'to': 5, 'see': 6, 'if': 7, 'will': 8, 'work': 9}\n"
          ]
        }
      ]
    },
    {
      "cell_type": "markdown",
      "source": [
        "##Integer Encoding\n",
        "\n",
        "Let's say we want to keep the order. What if we just created a list of the string, with each integer representing a word. That way, we would have a list of integers and we don't loose the place of each word. "
      ],
      "metadata": {
        "id": "TMsaGL_e3UBx"
      }
    },
    {
      "cell_type": "code",
      "source": [
        "vocab = {}  \n",
        "word_encoding = 1\n",
        "def one_hot_encoding(text):\n",
        "  global word_encoding\n",
        "\n",
        "  words = text.lower().split(\" \") \n",
        "  encoding = []  \n",
        "\n",
        "  for word in words:\n",
        "    if word in vocab:\n",
        "      code = vocab[word]  \n",
        "      encoding.append(code) \n",
        "    else:\n",
        "      vocab[word] = word_encoding\n",
        "      encoding.append(word_encoding)\n",
        "      word_encoding += 1\n",
        "  \n",
        "  return encoding\n",
        "\n",
        "text = \"this is a test to see if this test will work is is test a a\"\n",
        "encoding = one_hot_encoding(text)\n",
        "print(encoding)\n",
        "print(vocab)"
      ],
      "metadata": {
        "colab": {
          "base_uri": "https://localhost:8080/"
        },
        "id": "DfEEYzYC3z2g",
        "outputId": "190e3eb4-cd27-4768-9738-6fde8bd390f8"
      },
      "execution_count": null,
      "outputs": [
        {
          "output_type": "stream",
          "name": "stdout",
          "text": [
            "[1, 2, 3, 4, 5, 6, 7, 1, 4, 8, 9, 2, 2, 4, 3, 3]\n",
            "{'this': 1, 'is': 2, 'a': 3, 'test': 4, 'to': 5, 'see': 6, 'if': 7, 'will': 8, 'work': 9}\n"
          ]
        }
      ]
    },
    {
      "cell_type": "markdown",
      "source": [
        "However, let's say we have a large vocabulary of 100,000 words. Let's say we have the word `happy` encoded as 1, and `good` encoded as 100,000. When we pass in a sentence that has happy vs good, the model is going to struggle to realize they are similar as they are so numerically far apart. \n",
        "\n",
        "The numbers we choose for each words is important. "
      ],
      "metadata": {
        "id": "0jYWXDVj36xz"
      }
    },
    {
      "cell_type": "markdown",
      "source": [
        "##Words Embedding\n",
        "\n",
        "This encoder tries to find words that are similar and assign them similar values. This algorithm assigns a vector to each word, where each component will represent how similar the overall word is to each component word. \n",
        "\n",
        "This would be a layer in our model, so our model would actually learn how to embed the vocabulary. "
      ],
      "metadata": {
        "id": "2As_jT--4o3l"
      }
    },
    {
      "cell_type": "markdown",
      "source": [
        "##**Recurrent Neural Networks (RNN's)**\n",
        "\n",
        "The big difference between an RNN vs a Densly connected or Convolutional Neural Network is RNN's contain a loop within the layers. \n",
        "\n",
        "This gives the RNN an 'internal memory' of what is has already seen.  \n",
        "\n",
        "![alt text](https://colah.github.io/posts/2015-08-Understanding-LSTMs/img/RNN-unrolled.png)\n",
        "\n",
        "What these variables stand for...\n",
        "\n",
        "h<sub>t</sub> output at time t\n",
        "\n",
        "x<sub>t</sub> input at time t\n",
        "\n",
        "A Recurrent Layer (loop)\n",
        "\n",
        "What we are doing is we process our first word to generate some output. We then use that output in conjuction with our second input/word to produce a better understanding of the two words together. \n",
        "\n",
        "What we've just looked at is called a **simple RNN layer**. It can be effective at processing shorter sequences of text for simple problems but has many downfalls associated with it. For longer strings of input, the RNN struggles to remember earlier words, and they 'fade out' of memory. There are some methods to combat this. "
      ],
      "metadata": {
        "id": "zMpmTBmS5tro"
      }
    },
    {
      "cell_type": "markdown",
      "source": [
        "##Long-Short Term Memory (LSTM)\n",
        "\n",
        "What we do here is add another layer to track the internal state. With a simple RNN, all we do is use the previous output (which is all the previous words + the latest ones mushed together) to generate a new output. With LSTM, this other layer allows us to look back at the things we saw at the beginning (or remember the earlier parts). This allows us to make more useful predictions. \n",
        "\n",
        "It chooses what words/info are most important to remember, and keeps that in the internal state. So not only do we pass in the output from previous layer, we also pass in that internal state and combine it with the previous output. \n"
      ],
      "metadata": {
        "id": "OrPLeKVY7Ypy"
      }
    },
    {
      "cell_type": "markdown",
      "source": [
        "##**Building Sentiment Analysis Model**\n",
        "\n"
      ],
      "metadata": {
        "id": "V-atlt7qc1nm"
      }
    },
    {
      "cell_type": "code",
      "source": [
        "%tensorflow_version 2.x  # this line is not required unless you are in a notebook\n",
        "from keras.datasets import imdb\n",
        "from keras.preprocessing import sequence\n",
        "import keras\n",
        "import tensorflow as tf\n",
        "import os\n",
        "import numpy as np\n",
        "\n",
        "VOCAB_SIZE = 88584 # num of words we will include\n",
        "\n",
        "MAXLEN = 250\n",
        "BATCH_SIZE = 64\n",
        "\n",
        "(train_data, train_labels), (test_data, test_labels) = imdb.load_data(num_words = VOCAB_SIZE)"
      ],
      "metadata": {
        "colab": {
          "base_uri": "https://localhost:8080/"
        },
        "id": "g5ZRoj5RdFA8",
        "outputId": "b57047bd-11f1-4bb1-dab3-7e6680ca9a08"
      },
      "execution_count": null,
      "outputs": [
        {
          "output_type": "stream",
          "name": "stdout",
          "text": [
            "`%tensorflow_version` only switches the major version: 1.x or 2.x.\n",
            "You set: `2.x  # this line is not required unless you are in a notebook`. This will be interpreted as: `2.x`.\n",
            "\n",
            "\n",
            "TensorFlow 2.x selected.\n",
            "Downloading data from https://storage.googleapis.com/tensorflow/tf-keras-datasets/imdb.npz\n",
            "17465344/17464789 [==============================] - 0s 0us/step\n",
            "17473536/17464789 [==============================] - 0s 0us/step\n"
          ]
        }
      ]
    },
    {
      "cell_type": "markdown",
      "source": [
        "##Preprocessing\n",
        "\n",
        "Our reviews come in different lengths. To pass it to our model, there needs to be length of 250 words. To fix this we will\n",
        "\n",
        "* Trim off extra words if review is > 250 words\n",
        "* Add neccessary 0's if review is < 250 words (*padding*)\n"
      ],
      "metadata": {
        "id": "YRzhkhLLderr"
      }
    },
    {
      "cell_type": "code",
      "source": [
        "train_data = sequence.pad_sequences(train_data, MAXLEN)\n",
        "test_data = sequence.pad_sequences(test_data, MAXLEN)"
      ],
      "metadata": {
        "id": "aFoGqZwGd7Ae"
      },
      "execution_count": null,
      "outputs": []
    },
    {
      "cell_type": "code",
      "source": [
        "train_data[1] # now array length is 250"
      ],
      "metadata": {
        "colab": {
          "base_uri": "https://localhost:8080/"
        },
        "id": "IF7maNnseFcP",
        "outputId": "993267d2-d075-4e3d-a35c-e709bd6a2e1b"
      },
      "execution_count": null,
      "outputs": [
        {
          "output_type": "execute_result",
          "data": {
            "text/plain": [
              "array([    0,     0,     0,     0,     0,     0,     0,     0,     0,\n",
              "           0,     0,     0,     0,     0,     0,     0,     0,     0,\n",
              "           0,     0,     0,     0,     0,     0,     0,     0,     0,\n",
              "           0,     0,     0,     0,     0,     0,     0,     0,     0,\n",
              "           0,     0,     0,     0,     0,     0,     0,     0,     0,\n",
              "           0,     0,     0,     0,     0,     0,     0,     0,     0,\n",
              "           0,     0,     0,     0,     0,     0,     0,     1,   194,\n",
              "        1153,   194,  8255,    78,   228,     5,     6,  1463,  4369,\n",
              "        5012,   134,    26,     4,   715,     8,   118,  1634,    14,\n",
              "         394,    20,    13,   119,   954,   189,   102,     5,   207,\n",
              "         110,  3103,    21,    14,    69,   188,     8,    30,    23,\n",
              "           7,     4,   249,   126,    93,     4,   114,     9,  2300,\n",
              "        1523,     5,   647,     4,   116,     9,    35,  8163,     4,\n",
              "         229,     9,   340,  1322,     4,   118,     9,     4,   130,\n",
              "        4901,    19,     4,  1002,     5,    89,    29,   952,    46,\n",
              "          37,     4,   455,     9,    45,    43,    38,  1543,  1905,\n",
              "         398,     4,  1649,    26,  6853,     5,   163,    11,  3215,\n",
              "       10156,     4,  1153,     9,   194,   775,     7,  8255, 11596,\n",
              "         349,  2637,   148,   605, 15358,  8003,    15,   123,   125,\n",
              "          68, 23141,  6853,    15,   349,   165,  4362,    98,     5,\n",
              "           4,   228,     9,    43, 36893,  1157,    15,   299,   120,\n",
              "           5,   120,   174,    11,   220,   175,   136,    50,     9,\n",
              "        4373,   228,  8255,     5, 25249,   656,   245,  2350,     5,\n",
              "           4,  9837,   131,   152,   491,    18, 46151,    32,  7464,\n",
              "        1212,    14,     9,     6,   371,    78,    22,   625,    64,\n",
              "        1382,     9,     8,   168,   145,    23,     4,  1690,    15,\n",
              "          16,     4,  1355,     5,    28,     6,    52,   154,   462,\n",
              "          33,    89,    78,   285,    16,   145,    95], dtype=int32)"
            ]
          },
          "metadata": {},
          "execution_count": 7
        }
      ]
    },
    {
      "cell_type": "markdown",
      "source": [
        "## Creating Model"
      ],
      "metadata": {
        "id": "hGER7Nt-eMW-"
      }
    },
    {
      "cell_type": "code",
      "source": [
        "model = tf.keras.Sequential([\n",
        "  tf.keras.layers.Embedding(VOCAB_SIZE, 32), # creates vectors  \n",
        "  tf.keras.layers.LSTM(32), # 32 shows the num of dimensions each vector has\n",
        "  # and then implements the LSTM algo \n",
        "  tf.keras.layers.Dense(1, activation='sigmoid') \n",
        "  # since sigmoid moves values between 0-1, we can have a certain range\n",
        "  # represent negative, and the rest of range represent positive\n",
        "])"
      ],
      "metadata": {
        "id": "5yzr7kyLeNpG"
      },
      "execution_count": null,
      "outputs": []
    },
    {
      "cell_type": "code",
      "source": [
        "model.summary()"
      ],
      "metadata": {
        "colab": {
          "base_uri": "https://localhost:8080/"
        },
        "id": "k9l3cnByfSqi",
        "outputId": "e5a996e2-99d5-403a-a568-dbc94370a1b1"
      },
      "execution_count": null,
      "outputs": [
        {
          "output_type": "stream",
          "name": "stdout",
          "text": [
            "Model: \"sequential\"\n",
            "_________________________________________________________________\n",
            " Layer (type)                Output Shape              Param #   \n",
            "=================================================================\n",
            " embedding (Embedding)       (None, None, 32)          2834688   \n",
            "                                                                 \n",
            " lstm (LSTM)                 (None, 32)                8320      \n",
            "                                                                 \n",
            " dense (Dense)               (None, 1)                 33        \n",
            "                                                                 \n",
            "=================================================================\n",
            "Total params: 2,843,041\n",
            "Trainable params: 2,843,041\n",
            "Non-trainable params: 0\n",
            "_________________________________________________________________\n"
          ]
        }
      ]
    },
    {
      "cell_type": "markdown",
      "source": [
        "##Training"
      ],
      "metadata": {
        "id": "hdM5oeg9fZqF"
      }
    },
    {
      "cell_type": "code",
      "source": [
        "model.compile(loss=\"binary_crossentropy\",optimizer=\"rmsprop\",metrics=['acc'])\n",
        "\n",
        "history = model.fit(train_data, train_labels, epochs=10, validation_split=0.2)"
      ],
      "metadata": {
        "colab": {
          "base_uri": "https://localhost:8080/"
        },
        "id": "DkdL-CDafa2T",
        "outputId": "1a049ef0-0aaf-465c-f76f-85417026c423"
      },
      "execution_count": null,
      "outputs": [
        {
          "output_type": "stream",
          "name": "stdout",
          "text": [
            "Epoch 1/10\n",
            "625/625 [==============================] - 42s 57ms/step - loss: 0.4206 - acc: 0.8146 - val_loss: 0.3276 - val_acc: 0.8566\n",
            "Epoch 2/10\n",
            "625/625 [==============================] - 35s 56ms/step - loss: 0.2399 - acc: 0.9087 - val_loss: 0.2785 - val_acc: 0.8888\n",
            "Epoch 3/10\n",
            "625/625 [==============================] - 34s 54ms/step - loss: 0.1870 - acc: 0.9313 - val_loss: 0.2907 - val_acc: 0.8928\n",
            "Epoch 4/10\n",
            "625/625 [==============================] - 34s 55ms/step - loss: 0.1527 - acc: 0.9457 - val_loss: 0.2716 - val_acc: 0.8994\n",
            "Epoch 5/10\n",
            "625/625 [==============================] - 34s 54ms/step - loss: 0.1317 - acc: 0.9539 - val_loss: 0.3045 - val_acc: 0.8960\n",
            "Epoch 6/10\n",
            "625/625 [==============================] - 34s 54ms/step - loss: 0.1133 - acc: 0.9614 - val_loss: 0.2942 - val_acc: 0.8944\n",
            "Epoch 7/10\n",
            "625/625 [==============================] - 34s 54ms/step - loss: 0.0979 - acc: 0.9681 - val_loss: 0.3417 - val_acc: 0.8916\n",
            "Epoch 8/10\n",
            "625/625 [==============================] - 34s 54ms/step - loss: 0.0865 - acc: 0.9710 - val_loss: 0.3470 - val_acc: 0.8866\n",
            "Epoch 9/10\n",
            "625/625 [==============================] - 34s 54ms/step - loss: 0.0777 - acc: 0.9753 - val_loss: 0.3385 - val_acc: 0.8816\n",
            "Epoch 10/10\n",
            "625/625 [==============================] - 34s 55ms/step - loss: 0.0708 - acc: 0.9770 - val_loss: 0.3773 - val_acc: 0.8810\n"
          ]
        }
      ]
    },
    {
      "cell_type": "code",
      "source": [
        "model.save('sentiment_analysis_FCC.h5') #h5 is unqiue to keras"
      ],
      "metadata": {
        "id": "SxAeVK1ifwa8"
      },
      "execution_count": null,
      "outputs": []
    },
    {
      "cell_type": "markdown",
      "source": [
        "Here we can see that after one epoch of training, the validation accuracy remains pretty consistent and doesn't improve. This means we would need to update the model and create a better one. "
      ],
      "metadata": {
        "id": "htefWNxuhksC"
      }
    },
    {
      "cell_type": "code",
      "source": [
        "results = model.evaluate(test_data, test_labels)\n",
        "print(results)"
      ],
      "metadata": {
        "colab": {
          "base_uri": "https://localhost:8080/"
        },
        "id": "cG9ZDIwlhmVP",
        "outputId": "9ca7f63d-585b-407b-f203-0540b0b6b08b"
      },
      "execution_count": null,
      "outputs": [
        {
          "output_type": "stream",
          "name": "stdout",
          "text": [
            "782/782 [==============================] - 13s 16ms/step - loss: 0.4575 - acc: 0.8536\n",
            "[0.45747655630111694, 0.8535599708557129]\n"
          ]
        }
      ]
    },
    {
      "cell_type": "markdown",
      "source": [
        "##Making Predictions"
      ],
      "metadata": {
        "id": "2TwoeCDPgYLe"
      }
    },
    {
      "cell_type": "code",
      "source": [
        "word_index = imdb.get_word_index() # shows us index of each word\n",
        "\n",
        "# for preprocessing a line of text\n",
        "def encode(text):\n",
        "  # given some text, convert each word into a token (sepeartae each out)\n",
        "  tokens = keras.preprocessing.text.text_to_word_sequence(text)\n",
        "  # if the word that is in the toxen is in mapping, replace word with index, \n",
        "  # else put 0. \n",
        "  tokens = [word_index[word] if word in word_index else 0 for word in tokens]\n",
        "  # Then pad token sequence (put words on a list, so just take first element)\n",
        "  return sequence.pad_sequences([tokens], MAXLEN)[0]\n",
        "\n",
        "text = 'that movie was just amazing, so amazing'\n",
        "encoded = encode(text)\n",
        "print(encoded)\n",
        "\n"
      ],
      "metadata": {
        "colab": {
          "base_uri": "https://localhost:8080/"
        },
        "id": "CQf0rNAyga0l",
        "outputId": "c347fcba-be2d-4716-9035-a638f9906510"
      },
      "execution_count": null,
      "outputs": [
        {
          "output_type": "stream",
          "name": "stdout",
          "text": [
            "Downloading data from https://storage.googleapis.com/tensorflow/tf-keras-datasets/imdb_word_index.json\n",
            "1646592/1641221 [==============================] - 0s 0us/step\n",
            "1654784/1641221 [==============================] - 0s 0us/step\n",
            "[  0   0   0   0   0   0   0   0   0   0   0   0   0   0   0   0   0   0\n",
            "   0   0   0   0   0   0   0   0   0   0   0   0   0   0   0   0   0   0\n",
            "   0   0   0   0   0   0   0   0   0   0   0   0   0   0   0   0   0   0\n",
            "   0   0   0   0   0   0   0   0   0   0   0   0   0   0   0   0   0   0\n",
            "   0   0   0   0   0   0   0   0   0   0   0   0   0   0   0   0   0   0\n",
            "   0   0   0   0   0   0   0   0   0   0   0   0   0   0   0   0   0   0\n",
            "   0   0   0   0   0   0   0   0   0   0   0   0   0   0   0   0   0   0\n",
            "   0   0   0   0   0   0   0   0   0   0   0   0   0   0   0   0   0   0\n",
            "   0   0   0   0   0   0   0   0   0   0   0   0   0   0   0   0   0   0\n",
            "   0   0   0   0   0   0   0   0   0   0   0   0   0   0   0   0   0   0\n",
            "   0   0   0   0   0   0   0   0   0   0   0   0   0   0   0   0   0   0\n",
            "   0   0   0   0   0   0   0   0   0   0   0   0   0   0   0   0   0   0\n",
            "   0   0   0   0   0   0   0   0   0   0   0   0   0   0   0   0   0   0\n",
            "   0   0   0   0   0   0   0   0   0  12  17  13  40 477  35 477]\n"
          ]
        }
      ]
    },
    {
      "cell_type": "markdown",
      "source": [
        "We can also make a decoder..."
      ],
      "metadata": {
        "id": "gfHkho3Uhb1W"
      }
    },
    {
      "cell_type": "code",
      "source": [
        "reverse_word_index = {value : key for (key, value) in word_index.items()}\n",
        "\n",
        "def decode(encode):\n",
        "  PAD = 0\n",
        "  text = \"\"\n",
        "  for num in encode:\n",
        "    if num != PAD:\n",
        "      text += reverse_word_index[num] + \" \"\n",
        "  return text[: -1] # don't include last space \n",
        "\n",
        "print(decode(encoded))"
      ],
      "metadata": {
        "colab": {
          "base_uri": "https://localhost:8080/"
        },
        "id": "Cw50b56NhdYs",
        "outputId": "40e85f60-dd76-4b1b-a318-f6732d02266c"
      },
      "execution_count": null,
      "outputs": [
        {
          "output_type": "stream",
          "name": "stdout",
          "text": [
            "that movie was just amazing so amazing\n"
          ]
        }
      ]
    },
    {
      "cell_type": "markdown",
      "source": [
        "Now let's make a prediction"
      ],
      "metadata": {
        "id": "TQq3lwd7iYn4"
      }
    },
    {
      "cell_type": "code",
      "source": [
        "def predict(text):\n",
        "  encoded_text = encode(text)\n",
        "  pred = np.zeros((1,250)) # putting in format model expects \n",
        "  pred[0] = encoded_text\n",
        "  result = model.predict(pred)\n",
        "  print(result[0])\n",
        "\n",
        "positive_review = \"That movie was awesome! really loved it and would great watch it again because it was amazingly great\"\n",
        "predict(positive_review)\n",
        "\n",
        "negative_review = \"that movie sucked. I hated it and wouldn't watch it again. Was one of the worst things I've ever watched\"\n",
        "predict(negative_review)\n"
      ],
      "metadata": {
        "colab": {
          "base_uri": "https://localhost:8080/"
        },
        "id": "TsWBqKOciZ7g",
        "outputId": "ac39e1fa-eba3-47c3-945b-abf54d21d8c4"
      },
      "execution_count": null,
      "outputs": [
        {
          "output_type": "stream",
          "name": "stdout",
          "text": [
            "[0.8437104]\n",
            "[0.35995132]\n"
          ]
        }
      ]
    },
    {
      "cell_type": "markdown",
      "source": [
        "For the positive review, let's remove the words so awesome. Let's see how that changes the text "
      ],
      "metadata": {
        "id": "k1FM_UqEjYsU"
      }
    },
    {
      "cell_type": "code",
      "source": [
        "positive_review = \"That movie was! really loved it and would great watch it again because it was amazingly great\"\n",
        "predict(positive_review)"
      ],
      "metadata": {
        "colab": {
          "base_uri": "https://localhost:8080/"
        },
        "id": "AhPLl1yOjcfj",
        "outputId": "ead6cc85-130f-4c8a-e370-72f46337b98f"
      },
      "execution_count": null,
      "outputs": [
        {
          "output_type": "stream",
          "name": "stdout",
          "text": [
            "[0.9321127]\n"
          ]
        }
      ]
    },
    {
      "cell_type": "markdown",
      "source": [
        "Actually makes the prediction much better! This could be an indication of where our model is starting to fail"
      ],
      "metadata": {
        "id": "B96Ip_Bcjomj"
      }
    },
    {
      "cell_type": "markdown",
      "source": [
        "##**RNN Play Generator**\n",
        "\n",
        "This model is predicting the most likely next character. We will train the model on a bunch of sequences from play Romeo and Juliet, so that it learns how to predict next character\n",
        "\n",
        "In order to generate the play, we are going to recursively feed back the model's output back as an input to the model, and it will keep predicting next character until a play has been created. "
      ],
      "metadata": {
        "id": "CVXqER8Mk9X5"
      }
    },
    {
      "cell_type": "markdown",
      "source": [
        "##Dataset\n",
        "\n",
        "Getting the data from keras"
      ],
      "metadata": {
        "id": "_ssChn9NlzUJ"
      }
    },
    {
      "cell_type": "code",
      "source": [
        "## Could use any play\n",
        "path_to_file = tf.keras.utils.get_file('shakespeare.txt', 'https://storage.googleapis.com/download.tensorflow.org/data/shakespeare.txt')"
      ],
      "metadata": {
        "colab": {
          "base_uri": "https://localhost:8080/"
        },
        "id": "22oJZ5Csl2_n",
        "outputId": "a7502a3c-a1e3-400b-de3a-1be84fa71cf8"
      },
      "execution_count": null,
      "outputs": [
        {
          "output_type": "stream",
          "name": "stdout",
          "text": [
            "Downloading data from https://storage.googleapis.com/download.tensorflow.org/data/shakespeare.txt\n",
            "1122304/1115394 [==============================] - 0s 0us/step\n",
            "1130496/1115394 [==============================] - 0s 0us/step\n"
          ]
        }
      ]
    },
    {
      "cell_type": "markdown",
      "source": [
        "Let's open the file and look at the contents"
      ],
      "metadata": {
        "id": "ZR8hl3mXmCKW"
      }
    },
    {
      "cell_type": "code",
      "source": [
        "# Read, then decode for py2 compat.\n",
        "text = open(path_to_file, 'rb').read().decode(encoding='utf-8')\n",
        "# length of text is the number of characters in it\n",
        "print ('Length of text: {} characters'.format(len(text)))"
      ],
      "metadata": {
        "colab": {
          "base_uri": "https://localhost:8080/"
        },
        "id": "3zTE7pNqmEeZ",
        "outputId": "0695907a-718e-4227-fdce-1f41b6ab68dd"
      },
      "execution_count": null,
      "outputs": [
        {
          "output_type": "stream",
          "name": "stdout",
          "text": [
            "Length of text: 1115394 characters\n"
          ]
        }
      ]
    },
    {
      "cell_type": "code",
      "source": [
        "print(text[:250]) # let's look at the formatting"
      ],
      "metadata": {
        "colab": {
          "base_uri": "https://localhost:8080/"
        },
        "id": "G88VBBFYmJ1y",
        "outputId": "1f04fc05-5127-4c67-e87e-a0676781d4da"
      },
      "execution_count": null,
      "outputs": [
        {
          "output_type": "stream",
          "name": "stdout",
          "text": [
            "First Citizen:\n",
            "Before we proceed any further, hear me speak.\n",
            "\n",
            "All:\n",
            "Speak, speak.\n",
            "\n",
            "First Citizen:\n",
            "You are all resolved rather to die than to famish?\n",
            "\n",
            "All:\n",
            "Resolved. resolved.\n",
            "\n",
            "First Citizen:\n",
            "First, you know Caius Marcius is chief enemy to the people.\n",
            "\n"
          ]
        }
      ]
    },
    {
      "cell_type": "markdown",
      "source": [
        "##Preprocessing/Encoding"
      ],
      "metadata": {
        "id": "-XTfaWZemRCJ"
      }
    },
    {
      "cell_type": "code",
      "source": [
        "# We are simply encoding each character, not each word\n",
        "# This makes our lives easier as there are a finite amount of characters\n",
        "\n",
        "vocab = sorted(set(text)) #sorts all unique characters\n",
        "\n",
        "char2idx = {u:i for i, u in enumerate(vocab)} # creates a mapping \n",
        "# 0 : first char\n",
        "# 1 : second char...\n",
        "idx2char = np.array(vocab) # sorts in same order\n",
        "\n",
        "def text_to_int(text):\n",
        "  return np.array([char2idx[c] for c in text])\n",
        "\n",
        "text_as_int = text_to_int(text)"
      ],
      "metadata": {
        "id": "PS8-lRVUmTeI"
      },
      "execution_count": null,
      "outputs": []
    },
    {
      "cell_type": "markdown",
      "source": [
        "Let's see how first 14 lettters gets encoded"
      ],
      "metadata": {
        "id": "4VJwjhmQnQ08"
      }
    },
    {
      "cell_type": "code",
      "source": [
        "# lets look at how part of our text is encoded\n",
        "print(\"Text:\", text[:14])\n",
        "print(\"Encoded:\", text_to_int(text[:14]))"
      ],
      "metadata": {
        "colab": {
          "base_uri": "https://localhost:8080/"
        },
        "id": "JfcHdMKsnU9m",
        "outputId": "7b6a67c5-31ec-4afc-fbca-a322d34d55d4"
      },
      "execution_count": null,
      "outputs": [
        {
          "output_type": "stream",
          "name": "stdout",
          "text": [
            "Text: First Citizen:\n",
            "Encoded: [18 47 56 57 58  1 15 47 58 47 64 43 52 10]\n"
          ]
        }
      ]
    },
    {
      "cell_type": "code",
      "source": [
        "def int_to_text(ints):\n",
        "  try:\n",
        "    ints = ints.numpy()\n",
        "  except:\n",
        "    pass\n",
        "  return ''.join(idx2char[ints])\n",
        "\n",
        "print(int_to_text(text_as_int[:14]))"
      ],
      "metadata": {
        "colab": {
          "base_uri": "https://localhost:8080/"
        },
        "id": "sSw5bkIZngGJ",
        "outputId": "79dcbc11-fc5a-46dd-e630-057cd45b1369"
      },
      "execution_count": null,
      "outputs": [
        {
          "output_type": "stream",
          "name": "stdout",
          "text": [
            "First Citizen:\n"
          ]
        }
      ]
    },
    {
      "cell_type": "markdown",
      "source": [
        "##Creating Training Examples\n",
        "\n",
        "We have to feed in lines from the play, not a play as a whole. This means we needs to split our text data into shorter sequences \n",
        "\n",
        "We will prepare using a *seq_length* sequence as input and *seq_length* sequence as the output where that sequence is the original sequence shifted one letter to the right. For example:\n",
        "\n",
        "```input: Hell | output: ello```\n",
        "\n",
        "\n"
      ],
      "metadata": {
        "id": "pMyWOHIVokvf"
      }
    },
    {
      "cell_type": "code",
      "source": [
        "seq_length = 100\n",
        "examples_per_epoch = len(text) // (seq_length+1)\n",
        "# each input is 100, each output is 100, so need the extra\n",
        "# 1 char\n",
        "\n",
        "# let's create the dataset - coverts the string into characters\n",
        "# creates a stream of characters\n",
        "char_dataset = tf.data.Dataset.from_tensor_slices(text_as_int)"
      ],
      "metadata": {
        "id": "xDV8oae6pKMA"
      },
      "execution_count": null,
      "outputs": []
    },
    {
      "cell_type": "code",
      "source": [
        "sequences = char_dataset.batch(seq_length + 1, drop_remainder=True)\n",
        "# taking char data set and batching it, and drops excess char"
      ],
      "metadata": {
        "id": "kJ5N7fP_p7Jz"
      },
      "execution_count": null,
      "outputs": []
    },
    {
      "cell_type": "markdown",
      "source": [
        "Now we need to use sequences and split then into input and output"
      ],
      "metadata": {
        "id": "Lh9_e1PoqFpD"
      }
    },
    {
      "cell_type": "code",
      "source": [
        "def split_input_target(chunk):  # for the example: hello\n",
        "    input_text = chunk[:-1]  # hell\n",
        "    target_text = chunk[1:]  # ello\n",
        "    return input_text, target_text  # hell, ello\n",
        "\n",
        "dataset = sequences.map(split_input_target)  # we use map to apply the above function to every entry"
      ],
      "metadata": {
        "id": "hb1hjjKHqIQA"
      },
      "execution_count": null,
      "outputs": []
    },
    {
      "cell_type": "markdown",
      "source": [
        "Let's make the training batches"
      ],
      "metadata": {
        "id": "ZsTvH6FfqhNV"
      }
    },
    {
      "cell_type": "code",
      "source": [
        "BATCH_SIZE = 64\n",
        "VOCAB_SIZE = len(vocab)  # vocab is number of unique characters\n",
        "EMBEDDING_DIM = 256\n",
        "RNN_UNITS = 1024\n",
        "\n",
        "# Buffer size to shuffle the dataset\n",
        "# (TF data is designed to work with possibly infinite sequences,\n",
        "# so it doesn't attempt to shuffle the entire sequence in memory. Instead,\n",
        "# it maintains a buffer in which it shuffles elements).\n",
        "BUFFER_SIZE = 10000\n",
        "\n",
        "data = dataset.shuffle(BUFFER_SIZE).batch(BATCH_SIZE, drop_remainder=True)"
      ],
      "metadata": {
        "id": "WPlFEQ6Xqi9D"
      },
      "execution_count": null,
      "outputs": []
    },
    {
      "cell_type": "markdown",
      "source": [
        "##Building the Model\n",
        "\n",
        "We are going to create a function that creates the model. We are doing this because then we can create different sized batches. We will later see how the different inputs change the model's play"
      ],
      "metadata": {
        "id": "b9IeRhH8rCHg"
      }
    },
    {
      "cell_type": "code",
      "source": [
        "def build_model(vocab_size, embedding_dim,\n",
        "                rnn_units, batch_size):\n",
        "  model = tf.keras.Sequential(\n",
        "      [\n",
        "       tf.keras.layers.Embedding(vocab_size, embedding_dim,\n",
        "                                 batch_input_shape=[batch_size, None]),\n",
        "       tf.keras.layers.LSTM(rnn_units,\n",
        "                              return_sequences=True, # returns each step\n",
        "                              stateful=True,\n",
        "                              recurrent_initializer='glorot_uniform'),\n",
        "       tf.keras.layers.Dense(vocab_size)\n",
        "  ])\n",
        "  return model\n",
        "\n",
        "model = build_model(VOCAB_SIZE, EMBEDDING_DIM, RNN_UNITS, BATCH_SIZE)\n",
        "model.summary()"
      ],
      "metadata": {
        "colab": {
          "base_uri": "https://localhost:8080/"
        },
        "id": "iwsAftk_rTTl",
        "outputId": "e6e1bc43-e441-4a20-c207-db97b716bc80"
      },
      "execution_count": null,
      "outputs": [
        {
          "output_type": "stream",
          "name": "stdout",
          "text": [
            "Model: \"sequential_1\"\n",
            "_________________________________________________________________\n",
            " Layer (type)                Output Shape              Param #   \n",
            "=================================================================\n",
            " embedding_1 (Embedding)     (64, None, 256)           16640     \n",
            "                                                                 \n",
            " lstm_1 (LSTM)               (64, None, 1024)          5246976   \n",
            "                                                                 \n",
            " dense_1 (Dense)             (64, None, 65)            66625     \n",
            "                                                                 \n",
            "=================================================================\n",
            "Total params: 5,330,241\n",
            "Trainable params: 5,330,241\n",
            "Non-trainable params: 0\n",
            "_________________________________________________________________\n"
          ]
        }
      ]
    },
    {
      "cell_type": "markdown",
      "source": [
        "So everytime we pass the model an input, we are giving it ```BATCH_SIZE``` (in this case 64) examples. Each example is *seq_length* (in this case 100) long. "
      ],
      "metadata": {
        "id": "RmZBbaBgu3ze"
      }
    },
    {
      "cell_type": "markdown",
      "source": [
        "##Creating a Loss Function\n",
        "\n",
        "Let's first better understand what outputs our model will create\n",
        "\n"
      ],
      "metadata": {
        "id": "LhmINzisvT3l"
      }
    },
    {
      "cell_type": "code",
      "source": [
        "for input_example_batch, target_example_batch in data.take(1):\n",
        "  example_batch_predictions = model(input_example_batch)  # ask our model for a prediction on our first batch of training data (64 entries)\n",
        "  print(example_batch_predictions.shape, \"# (batch_size, sequence_length, vocab_size)\")  # print out the output shape"
      ],
      "metadata": {
        "colab": {
          "base_uri": "https://localhost:8080/"
        },
        "id": "SYdV6NAuv6KV",
        "outputId": "b63b9063-4c5a-44e6-8360-709bb0f65f64"
      },
      "execution_count": null,
      "outputs": [
        {
          "output_type": "stream",
          "name": "stdout",
          "text": [
            "(64, 100, 65) # (batch_size, sequence_length, vocab_size)\n"
          ]
        }
      ]
    },
    {
      "cell_type": "code",
      "source": [
        "# we can see that the predicition is an array of 64 arrays, one for each entry in the batch\n",
        "print(len(example_batch_predictions))\n",
        "print(example_batch_predictions)"
      ],
      "metadata": {
        "colab": {
          "base_uri": "https://localhost:8080/"
        },
        "id": "PfudV-GjxF7E",
        "outputId": "9053bc4e-326d-4da2-dd61-86105b1be5b7"
      },
      "execution_count": null,
      "outputs": [
        {
          "output_type": "stream",
          "name": "stdout",
          "text": [
            "64\n",
            "tf.Tensor(\n",
            "[[[ 2.37315334e-03  1.82198198e-03  3.33774509e-03 ... -2.33500893e-03\n",
            "    2.69794627e-03 -1.27459422e-03]\n",
            "  [-1.81131903e-03  4.91416408e-03  4.56461636e-03 ...  6.58889953e-03\n",
            "    1.08547322e-03 -1.08275074e-03]\n",
            "  [-3.19248601e-03  3.11992393e-04  4.96673537e-03 ...  6.92240894e-03\n",
            "   -1.29812455e-04 -3.64137604e-03]\n",
            "  ...\n",
            "  [ 1.09894527e-02 -1.44951773e-04 -3.06584145e-04 ...  2.06695660e-03\n",
            "    1.41441193e-03 -6.38324209e-03]\n",
            "  [ 8.73680972e-03 -3.89432476e-04 -7.09367450e-05 ...  4.30803606e-03\n",
            "    8.56750179e-03 -1.08958241e-02]\n",
            "  [ 8.17521755e-03 -1.17851396e-05  1.82223608e-04 ...  5.59174456e-03\n",
            "    1.34385852e-02 -1.46059860e-02]]\n",
            "\n",
            " [[ 1.96748297e-03  4.46033711e-03 -4.84104035e-03 ... -3.74602107e-03\n",
            "    3.01892683e-03  1.90614932e-03]\n",
            "  [ 3.02096759e-03 -2.93492200e-03 -2.39786645e-03 ... -7.61793368e-03\n",
            "   -6.82042155e-04  2.64850468e-03]\n",
            "  [ 6.30768389e-03 -4.92296042e-03 -1.98721024e-03 ... -1.05367443e-02\n",
            "    1.37845008e-03  4.04957682e-03]\n",
            "  ...\n",
            "  [ 6.39812555e-04 -7.14030256e-03  3.05863563e-03 ...  4.28558094e-03\n",
            "    1.07371910e-02 -7.92014878e-03]\n",
            "  [ 6.97465707e-03 -9.30163264e-03  1.69992168e-03 ...  6.57938374e-03\n",
            "    6.77921530e-03 -2.92730331e-03]\n",
            "  [ 8.05677101e-03 -7.89936911e-03  2.18607578e-03 ...  3.47452797e-03\n",
            "    1.18341595e-02 -3.30956187e-03]]\n",
            "\n",
            " [[-6.96744246e-05 -5.68720221e-04  3.46084614e-03 ...  6.18300308e-03\n",
            "    1.58770266e-03 -7.43053202e-03]\n",
            "  [-1.04655058e-03 -2.74798507e-03  3.62180360e-03 ...  6.33527152e-03\n",
            "    1.52504293e-03 -8.94868001e-03]\n",
            "  [ 1.82161911e-03 -6.05189055e-03  4.90304036e-03 ...  4.55837836e-03\n",
            "    4.70933830e-03 -8.88022874e-03]\n",
            "  ...\n",
            "  [ 2.81774346e-03 -3.49129573e-03  1.86987559e-03 ...  6.50807889e-03\n",
            "    1.45087484e-03 -3.59911076e-03]\n",
            "  [ 1.31803463e-04 -6.15950115e-03  1.79957121e-03 ...  6.58475002e-03\n",
            "    6.40811166e-04 -4.80019534e-03]\n",
            "  [ 3.81290400e-03  1.69419067e-03  3.25040030e-03 ...  5.53465215e-03\n",
            "    1.37392269e-03 -3.21051688e-03]]\n",
            "\n",
            " ...\n",
            "\n",
            " [[-1.85125112e-03 -3.24097858e-03  8.23317037e-04 ...  1.89619593e-03\n",
            "   -3.69382440e-04 -2.05216766e-03]\n",
            "  [-6.74677873e-03 -3.98840848e-03  1.09461507e-04 ...  5.30134595e-04\n",
            "    5.55240223e-03  3.27009335e-03]\n",
            "  [-1.95705006e-03 -5.24872029e-03 -5.19610336e-03 ...  4.75777127e-03\n",
            "    4.55271406e-03  4.15089540e-03]\n",
            "  ...\n",
            "  [ 7.22180447e-03 -5.42816054e-03 -1.61507039e-03 ...  7.99038506e-04\n",
            "    6.66258065e-03 -4.26829234e-03]\n",
            "  [ 2.62855785e-03 -1.46542455e-03  6.26324208e-07 ...  8.78121424e-03\n",
            "    4.03624168e-03 -3.23139736e-03]\n",
            "  [ 6.16430072e-04 -5.25005674e-03  1.08147284e-03 ...  8.47567245e-03\n",
            "    2.00685416e-03 -5.15761506e-03]]\n",
            "\n",
            " [[ 2.75629922e-04 -6.22507837e-03  1.44445244e-03 ... -3.24837561e-03\n",
            "   -2.40783067e-03  1.00763072e-03]\n",
            "  [-2.99853826e-04 -3.86742642e-03  9.99260461e-04 ... -1.41731312e-03\n",
            "    6.36226311e-03 -4.32631187e-03]\n",
            "  [ 5.78716351e-03 -4.87077516e-03  9.05167428e-04 ...  1.58039446e-03\n",
            "    3.12717375e-03 -9.21600658e-05]\n",
            "  ...\n",
            "  [ 5.77873085e-04 -6.04131725e-03  2.05361075e-03 ...  7.15060392e-03\n",
            "    6.80105574e-03 -5.88143291e-03]\n",
            "  [-1.80223573e-03 -8.15545395e-03  2.13058153e-03 ...  6.87028375e-03\n",
            "    5.78871323e-03 -7.17328023e-03]\n",
            "  [-1.58512872e-03 -7.73209706e-03  4.22362424e-03 ...  1.15109701e-02\n",
            "    6.82525337e-03 -1.26868896e-02]]\n",
            "\n",
            " [[ 1.02720980e-03 -5.19187236e-03  5.03179559e-04 ... -1.36524241e-03\n",
            "    3.87857691e-03 -1.78633461e-04]\n",
            "  [ 8.99107952e-04 -3.83702619e-03 -1.11100997e-03 ...  2.90905288e-03\n",
            "   -5.84263355e-04 -5.41321060e-04]\n",
            "  [ 3.46344896e-03  2.90421513e-03 -5.27498359e-03 ... -3.33952927e-03\n",
            "    1.85732776e-03  1.62953767e-03]\n",
            "  ...\n",
            "  [-6.11177820e-04 -9.32882354e-03  1.49409112e-04 ...  4.13922267e-03\n",
            "    6.46847300e-03 -8.55719918e-05]\n",
            "  [-2.83601973e-03 -1.05502503e-02  2.47883407e-04 ...  4.38444503e-03\n",
            "    5.13348682e-03 -1.86401035e-03]\n",
            "  [-2.49849702e-03 -9.46596265e-03  2.42279214e-03 ...  9.42875352e-03\n",
            "    6.01373380e-03 -7.90050533e-03]]], shape=(64, 100, 65), dtype=float32)\n"
          ]
        }
      ]
    },
    {
      "cell_type": "code",
      "source": [
        "# lets examine one prediction\n",
        "pred = example_batch_predictions[0]\n",
        "print(len(pred))\n",
        "print(pred)\n",
        "# notice this is a 2d array of length 100, where each \n",
        "# interior array is the prediction for the next character at each time step"
      ],
      "metadata": {
        "colab": {
          "base_uri": "https://localhost:8080/"
        },
        "id": "TCfwOtKexH3b",
        "outputId": "faa4b17a-d9b3-43bd-acaf-8598ef1d3b06"
      },
      "execution_count": null,
      "outputs": [
        {
          "output_type": "stream",
          "name": "stdout",
          "text": [
            "100\n",
            "tf.Tensor(\n",
            "[[ 2.3731533e-03  1.8219820e-03  3.3377451e-03 ... -2.3350089e-03\n",
            "   2.6979463e-03 -1.2745942e-03]\n",
            " [-1.8113190e-03  4.9141641e-03  4.5646164e-03 ...  6.5888995e-03\n",
            "   1.0854732e-03 -1.0827507e-03]\n",
            " [-3.1924860e-03  3.1199239e-04  4.9667354e-03 ...  6.9224089e-03\n",
            "  -1.2981246e-04 -3.6413760e-03]\n",
            " ...\n",
            " [ 1.0989453e-02 -1.4495177e-04 -3.0658414e-04 ...  2.0669566e-03\n",
            "   1.4144119e-03 -6.3832421e-03]\n",
            " [ 8.7368097e-03 -3.8943248e-04 -7.0936745e-05 ...  4.3080361e-03\n",
            "   8.5675018e-03 -1.0895824e-02]\n",
            " [ 8.1752175e-03 -1.1785140e-05  1.8222361e-04 ...  5.5917446e-03\n",
            "   1.3438585e-02 -1.4605986e-02]], shape=(100, 65), dtype=float32)\n"
          ]
        }
      ]
    },
    {
      "cell_type": "code",
      "source": [
        "# and finally well look at a prediction at the first timestep\n",
        "time_pred = pred[0]\n",
        "print(len(time_pred))\n",
        "print(time_pred)\n",
        "# and of course its 65 values representing the probabillity \n",
        "# of each character occuring next after first timestep "
      ],
      "metadata": {
        "colab": {
          "base_uri": "https://localhost:8080/"
        },
        "id": "FtrOeBo9xLBs",
        "outputId": "2b80fd38-6864-473a-fd25-957a42c904f9"
      },
      "execution_count": null,
      "outputs": [
        {
          "output_type": "stream",
          "name": "stdout",
          "text": [
            "65\n",
            "tf.Tensor(\n",
            "[ 2.3731533e-03  1.8219820e-03  3.3377451e-03  2.1350312e-03\n",
            "  3.9269557e-04 -4.8913374e-03 -1.0782480e-03  2.8815230e-03\n",
            "  3.5782913e-03 -1.7917999e-03 -2.8477262e-03 -1.7907147e-03\n",
            " -5.6958352e-03 -1.9960057e-03  3.0832691e-03  6.6348707e-04\n",
            "  8.6161662e-03 -2.8482198e-03  4.8803799e-03  1.3197982e-03\n",
            "  2.0636069e-03 -1.6747762e-03 -2.8662696e-03  1.7697064e-03\n",
            " -1.2123330e-03 -1.3534589e-03 -3.8454062e-03  3.0904014e-03\n",
            " -1.9760297e-03  2.5335930e-03 -1.3763786e-03 -8.2892813e-03\n",
            " -4.0954938e-03 -3.2084566e-04  4.3786964e-03  2.8965986e-04\n",
            "  4.6115010e-03 -3.7874305e-03 -9.2757848e-04  6.1617964e-03\n",
            "  1.8520345e-03 -2.6874247e-03  2.7117007e-03  1.6301543e-04\n",
            "  8.3347550e-04 -8.3342100e-05 -2.3495283e-03 -8.9189614e-04\n",
            " -1.4239028e-03 -1.0999684e-04  1.0424952e-03  2.9350801e-03\n",
            " -3.5442787e-03  5.3198184e-03 -4.4141044e-03  3.6278425e-03\n",
            "  4.7752494e-03  1.4177580e-04  4.7610453e-03  3.9290949e-03\n",
            " -4.7006039e-04 -9.4811909e-04 -2.3350089e-03  2.6979463e-03\n",
            " -1.2745942e-03], shape=(65,), dtype=float32)\n"
          ]
        }
      ]
    },
    {
      "cell_type": "code",
      "source": [
        "# If we want to determine the predicted character we need to \n",
        "# sample the output distribution (pick a value based on probabillity)\n",
        "sampled_indices = tf.random.categorical(pred, num_samples=1)\n",
        "\n",
        "# now we can reshape that array and convert all\n",
        "#  the integers to numbers to see the actual characters\n",
        "sampled_indices = np.reshape(sampled_indices, (1, -1))[0] \n",
        "# we are sampling the distribution, instead of just picking largest %\n",
        "predicted_chars = int_to_text(sampled_indices)\n",
        "\n",
        "predicted_chars  \n",
        "# and this is what the model predicted for training sequence 1"
      ],
      "metadata": {
        "colab": {
          "base_uri": "https://localhost:8080/"
        },
        "id": "7fCB-olAxMB2",
        "outputId": "5486905f-558a-469d-c3c9-d482f3407542"
      },
      "execution_count": null,
      "outputs": [
        {
          "output_type": "execute_result",
          "data": {
            "text/plain": [
              "\"mXwV'dImIprLhiqmkA gR!yeICxf$FARxNh?ovyT'rwgXu!Y?XskSbtD-Jc:NfGqupYtAhYBgdOXv ZsKq EjXphjdyg MHXM?oS\""
            ],
            "application/vnd.google.colaboratory.intrinsic+json": {
              "type": "string"
            }
          },
          "metadata": {},
          "execution_count": 32
        }
      ]
    },
    {
      "cell_type": "markdown",
      "source": [
        "This is why we have to build our own loss function,  because our model is creating a very very sepcific output "
      ],
      "metadata": {
        "id": "jKMT9F6Vxtc0"
      }
    },
    {
      "cell_type": "code",
      "source": [
        "def loss(labels, logits):\n",
        "  return tf.keras.losses.sparse_categorical_crossentropy(labels, logits, from_logits=True)"
      ],
      "metadata": {
        "id": "EXXDza-4ym9j"
      },
      "execution_count": null,
      "outputs": []
    },
    {
      "cell_type": "markdown",
      "source": [
        "##Compiling the Model"
      ],
      "metadata": {
        "id": "v88ssKSayxL7"
      }
    },
    {
      "cell_type": "code",
      "source": [
        "model.compile(optimizer='adam', loss=loss)"
      ],
      "metadata": {
        "id": "SLMPS2iVyzlN"
      },
      "execution_count": null,
      "outputs": []
    },
    {
      "cell_type": "markdown",
      "source": [
        "We can create checkpoints for the model as it trains. This allow us to load the model from a checkpoint and continue training it"
      ],
      "metadata": {
        "id": "0KLvhfIwy9eJ"
      }
    },
    {
      "cell_type": "code",
      "source": [
        "# Directory where the checkpoints will be saved\n",
        "checkpoint_dir = './training_checkpoints'\n",
        "# Name of the checkpoint files\n",
        "checkpoint_prefix = os.path.join(checkpoint_dir, \"ckpt_{epoch}\")\n",
        "\n",
        "checkpoint_callback=tf.keras.callbacks.ModelCheckpoint(\n",
        "    filepath=checkpoint_prefix,\n",
        "    save_weights_only=True)"
      ],
      "metadata": {
        "id": "7nTIaLSlzCA9"
      },
      "execution_count": null,
      "outputs": []
    },
    {
      "cell_type": "markdown",
      "source": [
        "##Training Model"
      ],
      "metadata": {
        "id": "sJc9alSqzE4x"
      }
    },
    {
      "cell_type": "code",
      "source": [
        "history = model.fit(data, epochs=50, callbacks=[checkpoint_callback])"
      ],
      "metadata": {
        "colab": {
          "base_uri": "https://localhost:8080/"
        },
        "id": "R29dZxH7zGDi",
        "outputId": "912b8890-9667-4483-c9f2-d86e01618940"
      },
      "execution_count": null,
      "outputs": [
        {
          "output_type": "stream",
          "name": "stdout",
          "text": [
            "Epoch 1/50\n",
            "172/172 [==============================] - 42s 227ms/step - loss: 2.5691\n",
            "Epoch 2/50\n",
            "172/172 [==============================] - 41s 227ms/step - loss: 1.8723\n",
            "Epoch 3/50\n",
            "172/172 [==============================] - 41s 227ms/step - loss: 1.6283\n",
            "Epoch 4/50\n",
            "172/172 [==============================] - 41s 228ms/step - loss: 1.4972\n",
            "Epoch 5/50\n",
            "172/172 [==============================] - 41s 226ms/step - loss: 1.4173\n",
            "Epoch 6/50\n",
            "172/172 [==============================] - 41s 227ms/step - loss: 1.3624\n",
            "Epoch 7/50\n",
            "172/172 [==============================] - 41s 227ms/step - loss: 1.3184\n",
            "Epoch 8/50\n",
            "172/172 [==============================] - 41s 227ms/step - loss: 1.2786\n",
            "Epoch 9/50\n",
            "172/172 [==============================] - 41s 227ms/step - loss: 1.2441\n",
            "Epoch 10/50\n",
            "172/172 [==============================] - 41s 226ms/step - loss: 1.2086\n",
            "Epoch 11/50\n",
            "172/172 [==============================] - 41s 227ms/step - loss: 1.1741\n",
            "Epoch 12/50\n",
            "172/172 [==============================] - 41s 228ms/step - loss: 1.1383\n",
            "Epoch 13/50\n",
            "172/172 [==============================] - 41s 227ms/step - loss: 1.1026\n",
            "Epoch 14/50\n",
            "172/172 [==============================] - 41s 227ms/step - loss: 1.0645\n",
            "Epoch 15/50\n",
            "172/172 [==============================] - 41s 227ms/step - loss: 1.0256\n",
            "Epoch 16/50\n",
            "172/172 [==============================] - 41s 227ms/step - loss: 0.9855\n",
            "Epoch 17/50\n",
            "172/172 [==============================] - 41s 226ms/step - loss: 0.9447\n",
            "Epoch 18/50\n",
            "172/172 [==============================] - 41s 227ms/step - loss: 0.9052\n",
            "Epoch 19/50\n",
            "172/172 [==============================] - 40s 226ms/step - loss: 0.8673\n",
            "Epoch 20/50\n",
            "172/172 [==============================] - 40s 226ms/step - loss: 0.8291\n",
            "Epoch 21/50\n",
            "172/172 [==============================] - 41s 226ms/step - loss: 0.7933\n",
            "Epoch 22/50\n",
            "172/172 [==============================] - 41s 227ms/step - loss: 0.7612\n",
            "Epoch 23/50\n",
            "172/172 [==============================] - 41s 226ms/step - loss: 0.7294\n",
            "Epoch 24/50\n",
            "172/172 [==============================] - 41s 226ms/step - loss: 0.7010\n",
            "Epoch 25/50\n",
            "172/172 [==============================] - 41s 227ms/step - loss: 0.6741\n",
            "Epoch 26/50\n",
            "172/172 [==============================] - 41s 227ms/step - loss: 0.6515\n",
            "Epoch 27/50\n",
            "172/172 [==============================] - 41s 227ms/step - loss: 0.6291\n",
            "Epoch 28/50\n",
            "172/172 [==============================] - 41s 226ms/step - loss: 0.6080\n",
            "Epoch 29/50\n",
            "172/172 [==============================] - 41s 227ms/step - loss: 0.5893\n",
            "Epoch 30/50\n",
            "172/172 [==============================] - 41s 227ms/step - loss: 0.5732\n",
            "Epoch 31/50\n",
            "172/172 [==============================] - 41s 227ms/step - loss: 0.5571\n",
            "Epoch 32/50\n",
            "172/172 [==============================] - 41s 226ms/step - loss: 0.5469\n",
            "Epoch 33/50\n",
            "172/172 [==============================] - 41s 226ms/step - loss: 0.5333\n",
            "Epoch 34/50\n",
            "172/172 [==============================] - 41s 226ms/step - loss: 0.5221\n",
            "Epoch 35/50\n",
            "172/172 [==============================] - 40s 225ms/step - loss: 0.5115\n",
            "Epoch 36/50\n",
            "172/172 [==============================] - 40s 226ms/step - loss: 0.5052\n",
            "Epoch 37/50\n",
            "172/172 [==============================] - 40s 226ms/step - loss: 0.4955\n",
            "Epoch 38/50\n",
            "172/172 [==============================] - 40s 226ms/step - loss: 0.4892\n",
            "Epoch 39/50\n",
            "172/172 [==============================] - 41s 227ms/step - loss: 0.4815\n",
            "Epoch 40/50\n",
            "172/172 [==============================] - 41s 228ms/step - loss: 0.4756\n",
            "Epoch 41/50\n",
            "172/172 [==============================] - 41s 228ms/step - loss: 0.4693\n",
            "Epoch 42/50\n",
            "172/172 [==============================] - 41s 228ms/step - loss: 0.4637\n",
            "Epoch 43/50\n",
            "172/172 [==============================] - 41s 228ms/step - loss: 0.4599\n",
            "Epoch 44/50\n",
            "172/172 [==============================] - 41s 229ms/step - loss: 0.4542\n",
            "Epoch 45/50\n",
            "172/172 [==============================] - 41s 228ms/step - loss: 0.4502\n",
            "Epoch 46/50\n",
            "172/172 [==============================] - 41s 228ms/step - loss: 0.4463\n",
            "Epoch 47/50\n",
            "172/172 [==============================] - 41s 228ms/step - loss: 0.4439\n",
            "Epoch 48/50\n",
            "172/172 [==============================] - 41s 228ms/step - loss: 0.4392\n",
            "Epoch 49/50\n",
            "172/172 [==============================] - 41s 228ms/step - loss: 0.4365\n",
            "Epoch 50/50\n",
            "172/172 [==============================] - 41s 228ms/step - loss: 0.4348\n"
          ]
        }
      ]
    },
    {
      "cell_type": "markdown",
      "source": [
        "##Loading the Model\n",
        "\n",
        "After we have trained the model, we want to rebuild the modelfrom the latest checkpoint (therby loading the weights). "
      ],
      "metadata": {
        "id": "Kq5obX9ZzXvS"
      }
    },
    {
      "cell_type": "code",
      "source": [
        "model = build_model(VOCAB_SIZE, EMBEDDING_DIM, RNN_UNITS, batch_size=1)"
      ],
      "metadata": {
        "id": "fD9x7h25ztwq"
      },
      "execution_count": null,
      "outputs": []
    },
    {
      "cell_type": "code",
      "source": [
        "model.load_weights(tf.train.latest_checkpoint(checkpoint_dir))\n",
        "model.build(tf.TensorShape([1, None]))"
      ],
      "metadata": {
        "id": "EQ4JgGbxzyTM"
      },
      "execution_count": null,
      "outputs": []
    },
    {
      "cell_type": "markdown",
      "source": [
        "We can load **any checkpoint** we want by specifying the exact file to load."
      ],
      "metadata": {
        "id": "bNZOBR840BKr"
      }
    },
    {
      "cell_type": "code",
      "source": [
        "checkpoint_num = 10\n",
        "model.load_weights(tf.train.load_checkpoint(\"./training_checkpoints/ckpt_\" + str(checkpoint_num)))\n",
        "model.build(tf.TensorShape([1, None]))"
      ],
      "metadata": {
        "colab": {
          "base_uri": "https://localhost:8080/",
          "height": 328
        },
        "id": "xHRtyoGc0Aqk",
        "outputId": "c8909ed2-3301-4689-9b34-57800fd8142b"
      },
      "execution_count": null,
      "outputs": [
        {
          "output_type": "error",
          "ename": "AttributeError",
          "evalue": "ignored",
          "traceback": [
            "\u001b[0;31m---------------------------------------------------------------------------\u001b[0m",
            "\u001b[0;31mAttributeError\u001b[0m                            Traceback (most recent call last)",
            "\u001b[0;32m<ipython-input-39-97614ead033d>\u001b[0m in \u001b[0;36m<module>\u001b[0;34m()\u001b[0m\n\u001b[1;32m      1\u001b[0m \u001b[0mcheckpoint_num\u001b[0m \u001b[0;34m=\u001b[0m \u001b[0;36m10\u001b[0m\u001b[0;34m\u001b[0m\u001b[0;34m\u001b[0m\u001b[0m\n\u001b[0;32m----> 2\u001b[0;31m \u001b[0mmodel\u001b[0m\u001b[0;34m.\u001b[0m\u001b[0mload_weights\u001b[0m\u001b[0;34m(\u001b[0m\u001b[0mtf\u001b[0m\u001b[0;34m.\u001b[0m\u001b[0mtrain\u001b[0m\u001b[0;34m.\u001b[0m\u001b[0mload_checkpoint\u001b[0m\u001b[0;34m(\u001b[0m\u001b[0;34m\"./training_checkpoints/ckpt_\"\u001b[0m \u001b[0;34m+\u001b[0m \u001b[0mstr\u001b[0m\u001b[0;34m(\u001b[0m\u001b[0mcheckpoint_num\u001b[0m\u001b[0;34m)\u001b[0m\u001b[0;34m)\u001b[0m\u001b[0;34m)\u001b[0m\u001b[0;34m\u001b[0m\u001b[0;34m\u001b[0m\u001b[0m\n\u001b[0m\u001b[1;32m      3\u001b[0m \u001b[0mmodel\u001b[0m\u001b[0;34m.\u001b[0m\u001b[0mbuild\u001b[0m\u001b[0;34m(\u001b[0m\u001b[0mtf\u001b[0m\u001b[0;34m.\u001b[0m\u001b[0mTensorShape\u001b[0m\u001b[0;34m(\u001b[0m\u001b[0;34m[\u001b[0m\u001b[0;36m1\u001b[0m\u001b[0;34m,\u001b[0m \u001b[0;32mNone\u001b[0m\u001b[0;34m]\u001b[0m\u001b[0;34m)\u001b[0m\u001b[0;34m)\u001b[0m\u001b[0;34m\u001b[0m\u001b[0;34m\u001b[0m\u001b[0m\n",
            "\u001b[0;32m/usr/local/lib/python3.7/dist-packages/keras/utils/traceback_utils.py\u001b[0m in \u001b[0;36merror_handler\u001b[0;34m(*args, **kwargs)\u001b[0m\n\u001b[1;32m     65\u001b[0m     \u001b[0;32mexcept\u001b[0m \u001b[0mException\u001b[0m \u001b[0;32mas\u001b[0m \u001b[0me\u001b[0m\u001b[0;34m:\u001b[0m  \u001b[0;31m# pylint: disable=broad-except\u001b[0m\u001b[0;34m\u001b[0m\u001b[0;34m\u001b[0m\u001b[0m\n\u001b[1;32m     66\u001b[0m       \u001b[0mfiltered_tb\u001b[0m \u001b[0;34m=\u001b[0m \u001b[0m_process_traceback_frames\u001b[0m\u001b[0;34m(\u001b[0m\u001b[0me\u001b[0m\u001b[0;34m.\u001b[0m\u001b[0m__traceback__\u001b[0m\u001b[0;34m)\u001b[0m\u001b[0;34m\u001b[0m\u001b[0;34m\u001b[0m\u001b[0m\n\u001b[0;32m---> 67\u001b[0;31m       \u001b[0;32mraise\u001b[0m \u001b[0me\u001b[0m\u001b[0;34m.\u001b[0m\u001b[0mwith_traceback\u001b[0m\u001b[0;34m(\u001b[0m\u001b[0mfiltered_tb\u001b[0m\u001b[0;34m)\u001b[0m \u001b[0;32mfrom\u001b[0m \u001b[0;32mNone\u001b[0m\u001b[0;34m\u001b[0m\u001b[0;34m\u001b[0m\u001b[0m\n\u001b[0m\u001b[1;32m     68\u001b[0m     \u001b[0;32mfinally\u001b[0m\u001b[0;34m:\u001b[0m\u001b[0;34m\u001b[0m\u001b[0;34m\u001b[0m\u001b[0m\n\u001b[1;32m     69\u001b[0m       \u001b[0;32mdel\u001b[0m \u001b[0mfiltered_tb\u001b[0m\u001b[0;34m\u001b[0m\u001b[0;34m\u001b[0m\u001b[0m\n",
            "\u001b[0;32m/usr/local/lib/python3.7/dist-packages/keras/saving/saving_utils.py\u001b[0m in \u001b[0;36mis_hdf5_filepath\u001b[0;34m(filepath)\u001b[0m\n\u001b[1;32m    333\u001b[0m \u001b[0;34m\u001b[0m\u001b[0m\n\u001b[1;32m    334\u001b[0m \u001b[0;32mdef\u001b[0m \u001b[0mis_hdf5_filepath\u001b[0m\u001b[0;34m(\u001b[0m\u001b[0mfilepath\u001b[0m\u001b[0;34m)\u001b[0m\u001b[0;34m:\u001b[0m\u001b[0;34m\u001b[0m\u001b[0;34m\u001b[0m\u001b[0m\n\u001b[0;32m--> 335\u001b[0;31m   return (filepath.endswith('.h5') or filepath.endswith('.keras') or\n\u001b[0m\u001b[1;32m    336\u001b[0m           filepath.endswith('.hdf5'))\n",
            "\u001b[0;31mAttributeError\u001b[0m: 'tensorflow.python.util._pywrap_checkpoint_reader.C' object has no attribute 'endswith'"
          ]
        }
      ]
    },
    {
      "cell_type": "markdown",
      "source": [
        "##Generating Text"
      ],
      "metadata": {
        "id": "ZRMVb43N0GnY"
      }
    },
    {
      "cell_type": "code",
      "source": [
        "def generate_text(model, start_string):\n",
        "  # Evaluation step (generating text using the learned model)\n",
        "\n",
        "  # Number of characters to generate\n",
        "  num_generate = 800\n",
        "\n",
        "  # Converting our start string to numbers (vectorizing)\n",
        "  input_eval = [char2idx[s] for s in start_string]\n",
        "  input_eval = tf.expand_dims(input_eval, 0) #makes a nested list\n",
        "\n",
        "  # Empty string to store our results\n",
        "  text_generated = []\n",
        "\n",
        "  # Low temperatures results in more predictable text.\n",
        "  # Higher temperatures results in more surprising text.\n",
        "  # Experiment to find the best setting.\n",
        "  temperature = 1.0\n",
        "\n",
        "  # Here batch size == 1\n",
        "  model.reset_states() # reseting the states, so it doesn't remember last \n",
        "  # state after generating data \n",
        "  for i in range(num_generate):\n",
        "      predictions = model(input_eval)\n",
        "      # remove the batch dimension\n",
        "    \n",
        "      predictions = tf.squeeze(predictions, 0) #Removes exterior dimension\n",
        "\n",
        "      # using a categorical distribution to predict \n",
        "      # the character returned by the model\n",
        "      predictions = predictions / temperature\n",
        "      predicted_id = tf.random.categorical(predictions, num_samples=1)[-1,0].numpy()\n",
        "\n",
        "      # We pass the predicted character as the next input to the model\n",
        "      # along with the previous hidden state\n",
        "      input_eval = tf.expand_dims([predicted_id], 0)\n",
        "\n",
        "      text_generated.append(idx2char[predicted_id])\n",
        "\n",
        "  return (start_string + ''.join(text_generated)) # return the generated play"
      ],
      "metadata": {
        "id": "ycI3cEFa0IHK"
      },
      "execution_count": null,
      "outputs": []
    },
    {
      "cell_type": "code",
      "source": [
        "inp = input(\"Type a starting string: \")\n",
        "print(generate_text(model, inp))"
      ],
      "metadata": {
        "id": "oRLosaBy0ycY"
      },
      "execution_count": null,
      "outputs": []
    }
  ]
}